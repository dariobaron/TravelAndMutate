{
 "cells": [
  {
   "cell_type": "code",
   "execution_count": null,
   "id": "2d52fecc-9f8c-4487-be52-c84a34994838",
   "metadata": {},
   "outputs": [],
   "source": [
    "from importing import *\n",
    "\n",
    "import json\n",
    "import time\n",
    "import pandas as pd\n",
    "import numpy as np\n",
    "from numpy.lib import recfunctions\n",
    "from argparse import ArgumentParser\n",
    "from TravelAndMutate.paramsmanager import Params\n",
    "from TravelAndMutate.randominterface import NumpyRandomGenerator\n",
    "from TravelAndMutate.system import SystemMutations as System\n",
    "import TravelAndMutate.datamanager as datman"
   ]
  },
  {
   "cell_type": "code",
   "execution_count": null,
   "id": "11a7b95b-830f-4e2d-b4c8-e288e94be09f",
   "metadata": {},
   "outputs": [],
   "source": [
    "def main(working_dir, filename, seed, suppress_output=False):\n",
    "\n",
    "\tif not working_dir[-1] == \"/\":\n",
    "\t\tworking_dir = working_dir + \"/\"\n",
    "\n",
    "\twith open(working_dir+\"params.json\") as paramfile:\n",
    "\t\tparams_dict = json.load(paramfile)\n",
    "\n",
    "\trandom_engine = NumpyRandomGenerator(seed)\n",
    "\t\n",
    "\tparams = Params(params_dict, random_engine.rng).__dict__\n",
    "\tpatch_params = pd.DataFrame()\n",
    "\tpatch_params[\"N\"] = params[\"Ns\"].astype(\"u4\")\n",
    "\tpatch_params[\"beta\"] = params[\"betas\"]\n",
    "\tpatch_params[\"epsilon\"] = params[\"epsilons\"]\n",
    "\tpatch_params[\"mu\"] = params[\"mus\"]\n",
    "\tpatch_params[\"I0\"] = params[\"I0\"].astype(\"u4\")\n",
    "\n",
    "\tsystem = System(random_engine.cpprng, params[\"commuting\"], patch_params.to_records(index=False), params[\"gamma_trick\"])\n",
    "\tsystem.setMutationRate(params[\"mutation_rate\"])\n",
    "\tsystem.seedEpidemic()\n",
    "\tif not suppress_output:\n",
    "\t\tsystem.setVerbosity()\n",
    "\n",
    "\tstarttime = time.time()\n",
    "\tsystem.spreadForTime(params[\"t_max\"])\n",
    "\tsimulationtime = time.time() - starttime\n",
    "\n",
    "\tstarttime = time.time()\n",
    "\tmutations = recfunctions.stack_arrays(\n",
    "\t\t[system.getMutationTree(i) for i in range(params[\"N_patches\"])],\n",
    "\t\tdefaults=None, usemask=False, asrecarray=True, autoconvert=False\n",
    "\t)\n",
    "\tmutations.sort(order=\"t\")\n",
    "\n",
    "\tsim_attrs = {\n",
    "\t\t\"seed\" : seed,\n",
    "\t\t\"exec_time\" : simulationtime\n",
    "\t}\n",
    "\tdatman.create_dataset(working_dir+filename, params, seed, mutations, sim_attrs, suppress_output=suppress_output)\n",
    "\tstoringtime = time.time() - starttime\n",
    "\n",
    "\tif not suppress_output:\n",
    "\t\tprint(f\"Time elapsed simulating: {round(simulationtime, 2)} s\")\n",
    "\t\tprint(f\"Time elapsed storing data: {round(storingtime, 2)} s\")"
   ]
  },
  {
   "cell_type": "code",
   "execution_count": null,
   "id": "b1e344b5-96a9-4202-9c1b-9edde05bda08",
   "metadata": {},
   "outputs": [],
   "source": [
    "args = parser.parse_args()\n",
    "working_dir = \"../data/\"\n",
    "filename = \"periods\"\n",
    "seed = 0\n",
    "suppress_output = False\n",
    "\n",
    "main(working_dir, filename, seed, suppress_output)"
   ]
  }
 ],
 "metadata": {
  "kernelspec": {
   "display_name": "Python 3 (ipykernel)",
   "language": "python",
   "name": "python3"
  },
  "language_info": {
   "codemirror_mode": {
    "name": "ipython",
    "version": 3
   },
   "file_extension": ".py",
   "mimetype": "text/x-python",
   "name": "python",
   "nbconvert_exporter": "python",
   "pygments_lexer": "ipython3",
   "version": "3.10.12"
  }
 },
 "nbformat": 4,
 "nbformat_minor": 5
}
