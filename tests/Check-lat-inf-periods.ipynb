{
 "cells": [
  {
   "cell_type": "code",
   "execution_count": null,
   "id": "2d52fecc-9f8c-4487-be52-c84a34994838",
   "metadata": {},
   "outputs": [],
   "source": [
    "from importing import *\n",
    "\n",
    "import json\n",
    "import time\n",
    "import pandas as pd\n",
    "import numpy as np\n",
    "from numpy.lib import recfunctions\n",
    "from argparse import ArgumentParser\n",
    "from TravelAndMutate.paramsmanager import Params\n",
    "from TravelAndMutate.randominterface import NumpyRandomGenerator\n",
    "from TravelAndMutate.system import SystemMutations as System\n",
    "from TravelAndMutate.eventrecorder import EventRecorder\n",
    "import TravelAndMutate.datamanager as datman"
   ]
  },
  {
   "cell_type": "code",
   "execution_count": null,
   "id": "11a7b95b-830f-4e2d-b4c8-e288e94be09f",
   "metadata": {},
   "outputs": [],
   "source": [
    "def main(working_dir, filename, seed, suppress_output=False):\n",
    "\n",
    "\tif not working_dir[-1] == \"/\":\n",
    "\t\tworking_dir = working_dir + \"/\"\n",
    "\n",
    "\twith open(working_dir+\"params.json\") as paramfile:\n",
    "\t\tparams_dict = json.load(paramfile)\n",
    "\n",
    "\trandom_engine = NumpyRandomGenerator(seed)\n",
    "\t\n",
    "\tparams = Params(params_dict, random_engine.rng).__dict__\n",
    "\tpatch_params = pd.DataFrame()\n",
    "\tpatch_params[\"N\"] = params[\"Ns\"].astype(\"u4\")\n",
    "\tpatch_params[\"beta\"] = params[\"betas\"]\n",
    "\tpatch_params[\"epsilon\"] = params[\"epsilons\"]\n",
    "\tpatch_params[\"mu\"] = params[\"mus\"]\n",
    "\tpatch_params[\"I0\"] = params[\"I0\"].astype(\"u4\")\n",
    "\n",
    "\tsystem = System(random_engine.cpprng, params[\"commuting\"], patch_params.to_records(index=False), params[\"gamma_trick\"])\n",
    "\tsystem.setMutationRate(params[\"mutation_rate\"])\n",
    "\tsystem.seedEpidemic()\n",
    "\tif not suppress_output:\n",
    "\t\tsystem.setVerbosity()\n",
    "\n",
    "\tstarttime = time.time()\n",
    "\tsystem.spreadForTime(params[\"t_max\"])\n",
    "\tsimulationtime = time.time() - starttime\n",
    "\n",
    "\tstarttime = time.time()\n",
    "\tstoringtime = time.time() - starttime\n",
    "\n",
    "\tif not suppress_output:\n",
    "\t\tprint(f\"Time elapsed simulating: {round(simulationtime, 2)} s\")\n",
    "\t\tprint(f\"Time elapsed storing data: {round(storingtime, 2)} s\")\n",
    "\n",
    "\treturn system"
   ]
  },
  {
   "cell_type": "code",
   "execution_count": null,
   "id": "b1e344b5-96a9-4202-9c1b-9edde05bda08",
   "metadata": {},
   "outputs": [],
   "source": [
    "working_dir = \"data/\"\n",
    "filename = \"periods\"\n",
    "seed = 4\n",
    "suppress_output = False\n",
    "\n",
    "system = main(working_dir, filename, seed, suppress_output)"
   ]
  },
  {
   "cell_type": "code",
   "execution_count": null,
   "id": "d7957f22-5640-4b47-abd3-9769708750de",
   "metadata": {},
   "outputs": [],
   "source": [
    "df = pd.DataFrame.from_records(system.getEventRecorder().read())\n",
    "df[\"agent\"] = (df[\"ID\"] + df[\"loc\"]*10**(np.ceil(np.log10(df[\"ID\"].max())))).astype(int)\n",
    "#df.drop(columns=[\"loc\",\"ID\"], inplace=True)\n",
    "#df.set_index(\"agent\", inplace=True)"
   ]
  },
  {
   "cell_type": "code",
   "execution_count": null,
   "id": "850a1c9e-4216-42e3-a5f4-64b972507444",
   "metadata": {},
   "outputs": [],
   "source": [
    "df"
   ]
  },
  {
   "cell_type": "code",
   "execution_count": null,
   "id": "75a361c1-aeb4-4ef2-a71e-40a4ee65e37b",
   "metadata": {},
   "outputs": [],
   "source": [
    "_,what = np.unique(df[\"agent\"], return_counts=True)"
   ]
  },
  {
   "cell_type": "code",
   "execution_count": null,
   "id": "ec140826-f9a0-472e-aa1a-2d5e5e5536bc",
   "metadata": {},
   "outputs": [],
   "source": [
    "np.unique(what, return_counts=True)"
   ]
  },
  {
   "cell_type": "code",
   "execution_count": null,
   "id": "46fd95f8-6a3a-4e1b-9642-4e0a46c0af97",
   "metadata": {},
   "outputs": [],
   "source": [
    "agents = df[\"agent\"].unique()\n",
    "tlat = np.empty_like(agents)\n",
    "tinf = np.empty_like(agents)\n",
    "print(\"[\")\n",
    "for i,ag in enumerate(agents):\n",
    "\tsliced = df.loc[df[\"agent\"]==ag]\n",
    "\tif sliced.shape[0] < 3:\n",
    "\t\tcontinue\n",
    "\ttlat[i] = np.diff(sliced[\"t\"].loc[sliced[\"newstate\"]!=82])[0]\n",
    "\ttinf[i] = np.diff(sliced[\"t\"].loc[sliced[\"newstate\"]!=69])[0]\n",
    "\tif tlat[i]>1000 or tinf[i]>1000:\n",
    "\t\tbreak\n",
    "\t\tprint(ag, end=\",\")\n",
    "\tif i > 1000:\n",
    "\t\tbreak\n",
    "tlat = tlat[:i+1]\n",
    "tinf = tinf[:i+1]\n",
    "print(\"]\")"
   ]
  },
  {
   "cell_type": "code",
   "execution_count": null,
   "id": "415a7bc7-b58c-41d6-8b1f-85a18eef5e9f",
   "metadata": {},
   "outputs": [],
   "source": [
    "import matplotlib.pyplot as plt\n",
    "\n",
    "bins = np.linspace(0,100,101)\n",
    "plt.hist(tlat, bins=bins, alpha=0.5)\n",
    "plt.hist(tinf, bins=bins, alpha=0.5)\n",
    "plt.axvline(tlat.mean(), linestyle=\"--\")\n",
    "plt.axvline(tinf.mean(), linestyle=\"--\")\n",
    "plt.axvline(1/0.1, linestyle=\":\", color=\"r\")\n",
    "plt.axvline(1/0.02, linestyle=\":\", color=\"r\")\n",
    "#plt.xscale(\"log\")\n",
    "#plt.yscale(\"log\")\n",
    "plt.tight_layout()"
   ]
  },
  {
   "cell_type": "code",
   "execution_count": null,
   "id": "ecc361d1-ba3e-40f6-b4ad-37cd5352f5e1",
   "metadata": {},
   "outputs": [],
   "source": []
  }
 ],
 "metadata": {
  "kernelspec": {
   "display_name": "Python 3 (ipykernel)",
   "language": "python",
   "name": "python3"
  },
  "language_info": {
   "codemirror_mode": {
    "name": "ipython",
    "version": 3
   },
   "file_extension": ".py",
   "mimetype": "text/x-python",
   "name": "python",
   "nbconvert_exporter": "python",
   "pygments_lexer": "ipython3",
   "version": "3.10.12"
  }
 },
 "nbformat": 4,
 "nbformat_minor": 5
}
