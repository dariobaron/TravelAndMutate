{
 "cells": [
  {
   "cell_type": "code",
   "execution_count": null,
   "id": "dd34f319-354e-4b0d-92f0-ddac24c09c63",
   "metadata": {},
   "outputs": [],
   "source": [
    "import os\n",
    "os.chdir(\"../..\")"
   ]
  },
  {
   "cell_type": "code",
   "execution_count": null,
   "id": "d68a7019-1117-47e7-a2d0-8b0c16d36907",
   "metadata": {},
   "outputs": [],
   "source": [
    "import h5py\n",
    "import numpy as np\n",
    "import pandas as pd\n",
    "import matplotlib.pyplot as plt\n",
    "import glob"
   ]
  },
  {
   "cell_type": "code",
   "execution_count": null,
   "id": "6f174132-c67f-48b5-a6a3-3bb044c7783f",
   "metadata": {},
   "outputs": [],
   "source": [
    "filename = \"data/testMutPerHost.h5\"\n",
    "file = h5py.File(filename)\n",
    "all_data = {\n",
    "\tname : [simulation[\"mutationsperhost\"][:] for simulation in group.values()]\n",
    "\tfor name,group in file.items()\n",
    "}\n",
    "file.close()"
   ]
  },
  {
   "cell_type": "code",
   "execution_count": null,
   "id": "0f456f7d-beae-4c75-babb-e03a97b9943e",
   "metadata": {},
   "outputs": [],
   "source": [
    "survived = {\n",
    "\tname : [data for data in group if data.shape[0] > 50]\n",
    "\tfor name,group in all_data.items()\n",
    "}"
   ]
  },
  {
   "cell_type": "code",
   "execution_count": null,
   "id": "ba1d54f0-63df-47ff-989a-2ac3358c7f37",
   "metadata": {},
   "outputs": [],
   "source": [
    "averaged = {\n",
    "\tname : [np.mean(data) for data in group]\n",
    "\tfor name,group in survived.items()\n",
    "}"
   ]
  },
  {
   "cell_type": "code",
   "execution_count": null,
   "id": "91e2f56a-bcdb-4378-a2a6-2a6c3c54b02f",
   "metadata": {},
   "outputs": [],
   "source": [
    "nrows = 1 + len(averaged) // 3\n",
    "fig, axs = plt.subplots(nrows, 3, figsize=(10,3*nrows))\n",
    "axs = axs.flatten()\n",
    "for i,(name,data) in enumerate(averaged.items()):\n",
    "\taxs[i].hist(data, alpha=0.7, edgecolor=\"k\")\n",
    "\taxs[i].set_title(name)\n",
    "fig.tight_layout()"
   ]
  },
  {
   "cell_type": "code",
   "execution_count": null,
   "id": "5d673d6f-f510-41b8-b5c5-f15cf9804479",
   "metadata": {},
   "outputs": [],
   "source": [
    "thisdata = survived[\"0\"]\n",
    "nrows = 1 + len(thisdata) // 5\n",
    "fig, axs = plt.subplots(nrows, 5, figsize=(15,3*nrows), sharex=True, sharey=True)\n",
    "axs = axs.flatten()\n",
    "for i,data in enumerate(thisdata):\n",
    "\taxs[i].hist(data, bins=np.arange(-0.5,10), alpha=0.7, edgecolor=\"k\")\n",
    "\taxs[i].set_yscale(\"log\")\n",
    "fig.tight_layout()"
   ]
  },
  {
   "cell_type": "code",
   "execution_count": null,
   "id": "95fa44b0-6564-4e4b-b472-716dd9097ab7",
   "metadata": {},
   "outputs": [],
   "source": [
    "thisdata = survived[\"1\"]\n",
    "nrows = 1 + len(thisdata) // 5\n",
    "fig, axs = plt.subplots(nrows, 5, figsize=(15,3*nrows), sharex=True, sharey=True)\n",
    "axs = axs.flatten()\n",
    "for i,data in enumerate(thisdata):\n",
    "\taxs[i].hist(data, bins=np.arange(-0.5,10), alpha=0.7, edgecolor=\"k\")\n",
    "\taxs[i].set_yscale(\"log\")\n",
    "fig.tight_layout()"
   ]
  },
  {
   "cell_type": "code",
   "execution_count": null,
   "id": "718af4f5-4a54-4e5e-a1d6-a8c73eaec09b",
   "metadata": {},
   "outputs": [],
   "source": [
    "thisdata = survived[\"2\"]\n",
    "nrows = 1 + len(thisdata) // 5\n",
    "fig, axs = plt.subplots(nrows, 5, figsize=(15,3*nrows), sharex=True, sharey=True)\n",
    "axs = axs.flatten()\n",
    "for i,data in enumerate(thisdata):\n",
    "\taxs[i].hist(data, bins=np.arange(-0.5,10), alpha=0.7, edgecolor=\"k\")\n",
    "\taxs[i].set_yscale(\"log\")\n",
    "fig.tight_layout()"
   ]
  },
  {
   "cell_type": "code",
   "execution_count": null,
   "id": "a3dfe563-9fee-443f-859d-69044cb3b8c7",
   "metadata": {},
   "outputs": [],
   "source": []
  },
  {
   "cell_type": "code",
   "execution_count": null,
   "id": "27b4d801-ac47-4d82-838d-a3afaa74c2b2",
   "metadata": {},
   "outputs": [],
   "source": []
  },
  {
   "cell_type": "code",
   "execution_count": null,
   "id": "1af89193-265c-4f2b-a3fd-48c5c3ab1d2f",
   "metadata": {},
   "outputs": [],
   "source": []
  },
  {
   "cell_type": "code",
   "execution_count": null,
   "id": "a750b990-fbe9-4cb8-b113-a056e8d02278",
   "metadata": {},
   "outputs": [],
   "source": []
  },
  {
   "cell_type": "code",
   "execution_count": null,
   "id": "5d5c477d-c560-40ed-a525-380865552e8d",
   "metadata": {},
   "outputs": [],
   "source": [
    "from scipy.stats import erlang, expon, gamma\n",
    "from scipy.special import factorial\n",
    "from scipy.integrate import quad"
   ]
  },
  {
   "cell_type": "code",
   "execution_count": null,
   "id": "3cb5258d-fa6e-4c53-b70d-5df74291bc97",
   "metadata": {},
   "outputs": [],
   "source": [
    "epsilon = 0.1\n",
    "mu = 0.02\n",
    "k = 3\n",
    "lambdaE = k * epsilon\n",
    "lambdaI = k * mu\n",
    "nrand = int(1e5)\n",
    "def f(x):\n",
    "\treturn erlang.pdf(x, k, scale=1/lambdaE)\n",
    "def g(x):\n",
    "\treturn erlang.pdf(x, k, scale=1/lambdaI)\n",
    "class ViralPeriodDistribution:\n",
    "\tdef __init__(self):\n",
    "\t\tself.integrand = lambda x,z: (z-x)**(k-1) * x**(k-1) * np.exp(-(lambdaE-lambdaI)*x)\n",
    "\t\tself.function = lambda z: np.exp(-lambdaI*z) * quad(self.integrand, 0, z, args=(z,))[0]\n",
    "\t\tself.zmax = 10 / min(lambdaE,lambdaI)\n",
    "\t\tself.Z = quad(self.function, 0, self.zmax)[0]\n",
    "\tdef __call__(self, z):\n",
    "\t\tif isinstance(z, np.ndarray):\n",
    "\t\t\tvalues = np.empty_like(z)\n",
    "\t\t\tfor i,el in enumerate(z):\n",
    "\t\t\t\tvalues[i] = 1 / self.Z * self.function(el)\n",
    "\t\telse:\n",
    "\t\t\tvalues = 1 / self.Z * self.function(z)\n",
    "\t\treturn values\n",
    "h = ViralPeriodDistribution()\n",
    "\n",
    "mr = 0.02\n",
    "kmut = 10\n",
    "theta = 1 / kmut / mr\n",
    "def p(x, n=1):\n",
    "\treturn gamma.pdf(x, n*kmut, scale=theta)"
   ]
  },
  {
   "cell_type": "code",
   "execution_count": null,
   "id": "273aedef-e72f-41ce-a9e7-3f66f22b3080",
   "metadata": {},
   "outputs": [],
   "source": [
    "otherfile = h5py.File(\"data/mutPerHostWithEvents_0_seed-00000.h5\")\n",
    "mutations = otherfile[\"0/seed-00000/mutationsperhost\"][:]\n",
    "events = otherfile[\"0/seed-00000/events\"][:]\n",
    "otherfile.close()"
   ]
  },
  {
   "cell_type": "code",
   "execution_count": null,
   "id": "72662111-dc87-447f-817f-c1b6467963a5",
   "metadata": {},
   "outputs": [],
   "source": [
    "df = pd.DataFrame.from_records(events)\n",
    "df2 = df.loc[df[\"newstate\"]==73].copy()\n",
    "df2[\"newstate\"] = 82\n",
    "df3 = df.loc[df[\"newstate\"]!=73].copy()\n",
    "df3[\"newstate\"] = 99\n",
    "df[\"newstate\"] = df[\"newstate\"].replace(to_replace=73, value=69)\n",
    "df = pd.concat([df,df2,df3])\n",
    "df[\"diff\"] = df.groupby([\"newstate\",\"loc\",\"ID\"]).diff().abs()\n",
    "df.dropna(inplace=True)\n",
    "df.drop(columns=[\"t\",\"loc\",\"ID\"], inplace=True)\n",
    "df"
   ]
  },
  {
   "cell_type": "code",
   "execution_count": null,
   "id": "9d4ae39c-64bd-4f45-bd8e-5650e33018de",
   "metadata": {},
   "outputs": [],
   "source": [
    "Es = df.loc[df[\"newstate\"]==69][\"diff\"].to_numpy()\n",
    "Is = df.loc[df[\"newstate\"]==82][\"diff\"].to_numpy()\n",
    "Vs = df.loc[df[\"newstate\"]==99][\"diff\"].to_numpy()\n",
    "xmax = 500\n",
    "xs = np.linspace(0,xmax,1001)\n",
    "bins = np.linspace(0,xmax,101)\n",
    "\n",
    "plt.hist(Es, bins=bins, density=True, color=\"orange\", alpha=0.5)\n",
    "plt.hist(Is, bins=bins, density=True, color=\"red\", alpha=0.5)\n",
    "plt.hist(Vs, bins=bins, density=True, color=\"grey\", alpha=0.5)\n",
    "plt.plot(xs, f(xs), color=\"orange\")\n",
    "plt.plot(xs, g(xs), color=\"red\")\n",
    "plt.plot(xs, h(xs), color=\"grey\")\n",
    "plt.plot(xs, p(xs,6), color=\"blue\")"
   ]
  },
  {
   "cell_type": "code",
   "execution_count": null,
   "id": "5cef665d-dab2-4b56-a624-7f954a5d5114",
   "metadata": {},
   "outputs": [],
   "source": [
    "df.groupby(\"newstate\").mean()"
   ]
  },
  {
   "cell_type": "code",
   "execution_count": null,
   "id": "044571ee-4591-4103-8da3-d72ed81ad395",
   "metadata": {},
   "outputs": [],
   "source": [
    "Is.mean(), Es.mean()"
   ]
  },
  {
   "cell_type": "code",
   "execution_count": null,
   "id": "1fd4b1b5-46ee-48db-9766-f7155bfe2c4b",
   "metadata": {},
   "outputs": [],
   "source": [
    "from TravelAndMutate.haplotypes import Haplotypes\n",
    "from TravelAndMutate.randominterface import NumpyRandomGenerator"
   ]
  },
  {
   "cell_type": "code",
   "execution_count": null,
   "id": "1d44e69b-e6be-40c5-a9ab-62197bc843b6",
   "metadata": {},
   "outputs": [],
   "source": [
    "rng = NumpyRandomGenerator()\n",
    "dealer = Haplotypes(rng.cpprng, mr)\n",
    "values = np.empty(int(1e6))\n",
    "for i in range(values.shape[0]):\n",
    "\tvalues[i] = dealer.exportMutPeriod()"
   ]
  },
  {
   "cell_type": "code",
   "execution_count": null,
   "id": "d96fb313-338f-4d6c-ab6b-6fd8101a0063",
   "metadata": {},
   "outputs": [],
   "source": [
    "plt.hist(values, bins=np.arange(-0.5,140), density=True, alpha=0.5)\n",
    "plt.plot(xs, p(xs), color=\"blue\")\n",
    "plt.xlim([0,120])"
   ]
  },
  {
   "cell_type": "code",
   "execution_count": null,
   "id": "09b97cc5-f920-4e4e-8044-dd7c73f9db67",
   "metadata": {},
   "outputs": [],
   "source": []
  },
  {
   "cell_type": "code",
   "execution_count": null,
   "id": "8265882a-1db7-40ee-b076-e269d6f1ad98",
   "metadata": {},
   "outputs": [],
   "source": [
    "class Anticipation:\n",
    "\tdef __init__(self, n=1):\n",
    "\t\tself.viral = ViralPeriodDistribution()\n",
    "\t\tself.integrand = lambda w,t: self.viral(t+w) * p(w, n)\n",
    "\t\tself.function = lambda t: quad(self.integrand, max(0,-t), np.inf, args=(t,))[0]\n",
    "\t\tself.tmax = 1000#50 / min(lambdaE,lambdaI)\n",
    "\t\tself.Z = quad(self.function, -self.tmax, self.tmax)[0]\n",
    "\tdef __call__(self, t):\n",
    "\t\tif isinstance(t, np.ndarray):\n",
    "\t\t\tvalues = np.empty_like(t)\n",
    "\t\t\tfor i,el in enumerate(t):\n",
    "\t\t\t\tvalues[i] = 1 / self.Z * self.function(el)\n",
    "\t\telse:\n",
    "\t\t\tvalues = 1 / self.Z * self.function(t)\n",
    "\t\treturn values"
   ]
  },
  {
   "cell_type": "code",
   "execution_count": null,
   "id": "2425045f-c86c-42ce-a633-353259e44d28",
   "metadata": {},
   "outputs": [],
   "source": []
  },
  {
   "cell_type": "code",
   "execution_count": null,
   "id": "cfd5319e-c429-43a6-9346-adb5435f4608",
   "metadata": {},
   "outputs": [],
   "source": [
    "ant = Anticipation()"
   ]
  },
  {
   "cell_type": "code",
   "execution_count": null,
   "id": "3631ac04-4831-446d-916b-0ab6eb104b28",
   "metadata": {},
   "outputs": [],
   "source": []
  },
  {
   "cell_type": "code",
   "execution_count": null,
   "id": "f7b856f1-d4fd-4cc7-b9b0-6d60298e0a28",
   "metadata": {},
   "outputs": [],
   "source": [
    "newxs = np.linspace(-100,150,101)\n",
    "Vs_sim = df.loc[df[\"newstate\"]==99][\"diff\"].to_numpy()\n",
    "values = np.empty_like(Vs_sim)\n",
    "for i in range(values.shape[0]):\n",
    "\tvalues[i] = dealer.exportMutPeriod()\n",
    "ts = Vs_sim - values\n",
    "plt.plot(newxs, ant(newxs))\n",
    "plt.hist(ts, bins=np.linspace(-100,150,51), density=True, alpha=0.5)\n",
    "print()"
   ]
  },
  {
   "cell_type": "code",
   "execution_count": null,
   "id": "7660192e-c149-4005-af86-cbbd732dbe6f",
   "metadata": {},
   "outputs": [],
   "source": [
    "quad(ant, -500, 200)"
   ]
  },
  {
   "cell_type": "code",
   "execution_count": null,
   "id": "7caeb34b-8c26-4e86-9297-7005052ae3ab",
   "metadata": {},
   "outputs": [],
   "source": [
    "quad(ant, 0, 200)"
   ]
  },
  {
   "cell_type": "code",
   "execution_count": null,
   "id": "4ec4ff6a-3676-4d3c-9383-32b68319b87f",
   "metadata": {},
   "outputs": [],
   "source": [
    "(ts>0).mean()"
   ]
  },
  {
   "cell_type": "code",
   "execution_count": null,
   "id": "9b9d6cc7-9f82-4ccd-bd12-915f1e125a43",
   "metadata": {},
   "outputs": [],
   "source": [
    "np.mean([(arr>0).mean() for arr in survived[\"2\"]])"
   ]
  },
  {
   "cell_type": "code",
   "execution_count": null,
   "id": "9bf12a03-841a-4a63-abc2-363f49459e25",
   "metadata": {},
   "outputs": [],
   "source": [
    "values = np.empty(10)\n",
    "for i in range(values.shape[0]):\n",
    "\tantk = Anticipation(i+1)\n",
    "\tvalues[i] = quad(antk, 0, 200)[0]"
   ]
  },
  {
   "cell_type": "code",
   "execution_count": null,
   "id": "f8033fd8-f54b-4bff-b785-833b52720926",
   "metadata": {},
   "outputs": [],
   "source": [
    "values"
   ]
  },
  {
   "cell_type": "code",
   "execution_count": null,
   "id": "eac11ddb-88d7-46b3-b10d-84a23df5c9ba",
   "metadata": {},
   "outputs": [],
   "source": [
    "corrected = np.zeros(values.shape[0]+1)\n",
    "for i in range(values.shape[0]):\n",
    "\tif i == 0:\n",
    "\t\tcorrected[i] = 1 - values[i]\n",
    "\telse:\n",
    "\t\tcorrected[i] = values[i-1] - values[i]"
   ]
  },
  {
   "cell_type": "code",
   "execution_count": null,
   "id": "41963271-ae50-41c8-bba3-9d1f77af1669",
   "metadata": {},
   "outputs": [],
   "source": [
    "corrected"
   ]
  },
  {
   "cell_type": "code",
   "execution_count": null,
   "id": "b92ec7ce-357f-4c59-b562-ea83c3686b7b",
   "metadata": {},
   "outputs": [],
   "source": [
    "(corrected * np.arange(corrected.shape[0])).sum()"
   ]
  },
  {
   "cell_type": "code",
   "execution_count": null,
   "id": "c3d5c791-47db-402f-be95-0d8ca9bd85da",
   "metadata": {},
   "outputs": [],
   "source": [
    "np.mean([arr.mean() for arr in survived[\"2\"]])"
   ]
  },
  {
   "cell_type": "code",
   "execution_count": null,
   "id": "6d0570b8-a397-41cd-925e-ae08503a71bf",
   "metadata": {},
   "outputs": [],
   "source": [
    "plt.plot(np.arange(11), corrected)\n",
    "plt.yscale(\"log\")\n",
    "temp,_,_ = plt.hist(survived[\"2\"][1], bins=np.arange(-0.5,11), density=True, alpha=0.5, edgecolor=\"k\")"
   ]
  },
  {
   "cell_type": "code",
   "execution_count": null,
   "id": "4db998cb-a471-438c-a362-637839e742ab",
   "metadata": {},
   "outputs": [],
   "source": [
    "(temp * np.arange(temp.shape[0])).sum()"
   ]
  },
  {
   "cell_type": "code",
   "execution_count": null,
   "id": "76ab240a-7209-4bc1-87b3-87b37acaddc7",
   "metadata": {},
   "outputs": [],
   "source": [
    "corrected-temp"
   ]
  },
  {
   "cell_type": "code",
   "execution_count": null,
   "id": "9b754542-d325-4b9b-96e9-0ed075c8a01b",
   "metadata": {},
   "outputs": [],
   "source": [
    "(corrected-temp)[0], (corrected-temp)[1:].sum()"
   ]
  },
  {
   "cell_type": "code",
   "execution_count": null,
   "id": "98d5ad6d-e8ff-4883-9f1f-2b1b90a02eb0",
   "metadata": {},
   "outputs": [],
   "source": []
  },
  {
   "cell_type": "code",
   "execution_count": null,
   "id": "708ae175-144b-4c83-bc61-14fc3298ff47",
   "metadata": {},
   "outputs": [],
   "source": []
  },
  {
   "cell_type": "code",
   "execution_count": null,
   "id": "9baae0f7-0c0e-405f-94c3-c13fde6edb7f",
   "metadata": {},
   "outputs": [],
   "source": []
  },
  {
   "cell_type": "code",
   "execution_count": null,
   "id": "4e208d0f-130d-4e8b-b954-db89b74513c1",
   "metadata": {},
   "outputs": [],
   "source": []
  },
  {
   "cell_type": "code",
   "execution_count": null,
   "id": "1bdafefc-0862-4f6f-b333-e58e218c4a07",
   "metadata": {},
   "outputs": [],
   "source": []
  },
  {
   "cell_type": "code",
   "execution_count": null,
   "id": "d1435dce-4be2-4a3d-9dea-2fa676a94272",
   "metadata": {},
   "outputs": [],
   "source": []
  },
  {
   "cell_type": "code",
   "execution_count": null,
   "id": "f1b53aa1-6fc4-4114-8d64-1949d3fcce9a",
   "metadata": {},
   "outputs": [],
   "source": []
  },
  {
   "cell_type": "code",
   "execution_count": null,
   "id": "157219fd-3b55-45ce-889e-a26a86a78d56",
   "metadata": {},
   "outputs": [],
   "source": []
  }
 ],
 "metadata": {
  "kernelspec": {
   "display_name": "Python 3 (ipykernel)",
   "language": "python",
   "name": "python3"
  },
  "language_info": {
   "codemirror_mode": {
    "name": "ipython",
    "version": 3
   },
   "file_extension": ".py",
   "mimetype": "text/x-python",
   "name": "python",
   "nbconvert_exporter": "python",
   "pygments_lexer": "ipython3",
   "version": "3.10.12"
  }
 },
 "nbformat": 4,
 "nbformat_minor": 5
}
