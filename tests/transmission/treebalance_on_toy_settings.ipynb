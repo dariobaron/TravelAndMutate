{
 "cells": [
  {
   "cell_type": "code",
   "execution_count": null,
   "id": "a9ecf864-66cc-4176-be07-c45c4889aeef",
   "metadata": {},
   "outputs": [],
   "source": [
    "from importing import *"
   ]
  },
  {
   "cell_type": "code",
   "execution_count": null,
   "id": "4f376372-5d8b-4c03-b6c0-4999e71c0236",
   "metadata": {},
   "outputs": [],
   "source": [
    "import h5py\n",
    "import networkx as nx\n",
    "from matplotlib import pyplot as plt\n",
    "from TravelAndMutate.datamanager import collect_attribute_from_group\n",
    "import pandas as pd\n",
    "import numpy as np\n",
    "import matplotlib as mpl"
   ]
  },
  {
   "cell_type": "code",
   "execution_count": null,
   "id": "1d33c6c7-d6c2-4e74-97f3-4b0ff8233355",
   "metadata": {},
   "outputs": [],
   "source": [
    "file = h5py.File(\"../../data/treesTB.h5\")"
   ]
  },
  {
   "cell_type": "code",
   "execution_count": null,
   "id": "53d84256-e821-4ce2-928c-69ddef571fe1",
   "metadata": {},
   "outputs": [],
   "source": [
    "file.keys()"
   ]
  },
  {
   "cell_type": "code",
   "execution_count": null,
   "id": "93dbe00d-12c7-408c-a4e9-92c989e35833",
   "metadata": {},
   "outputs": [],
   "source": [
    "metrics = [\n",
    "\t\"cherryI\", \"B1I\", \"B2I\", \"maxWidth\", \"mWovermD\", \"maxDelW\", \"rQuartetI\", \"avgLeafDepI\", \"avgVertDep\", \"IbasedI\", \"maxDepth\", \"sackinI\", \"sShapeI\", \"totCophI\", \"totIntPathLen\", \"totPathLen\", \"varLeafDepI\"\n",
    "]"
   ]
  },
  {
   "cell_type": "code",
   "execution_count": null,
   "id": "c2bcc5ae-04cb-4362-b6ed-a3b50bd744e4",
   "metadata": {},
   "outputs": [],
   "source": [
    "fig, axs = plt.subplots(4, 2, figsize=(8,10))\n",
    "axs = axs.flatten()\n",
    "all_cij = []\n",
    "all_Ns = []\n",
    "all_betas = []\n",
    "for i,(name,simulation) in enumerate(file.items()):\n",
    "\taxs[i].set_title(f\"Simulation {name}\")\n",
    "\tadjmat = simulation.attrs[\"commuting_params\"]\n",
    "\tall_cij.append(adjmat)\n",
    "\tG = nx.from_numpy_array(adjmat)\n",
    "\tNs = simulation.attrs[\"Ns_params\"]\n",
    "\tall_Ns.append(Ns)\n",
    "\tbetas = np.array([simulation.attrs[\"betas_params\"]]).flatten()\n",
    "\tif betas.size == 1:\n",
    "\t\tbetas = np.full(Ns.size, betas[0])\n",
    "\tall_betas.append(betas)\n",
    "\tnx.draw_planar(G, ax=axs[i], node_size=Ns/10, cmap=plt.cm.Reds, node_color=betas, vmin=0.01, vmax=0.03, edge_cmap=plt.cm.gnuplot2, edge_color=-np.log10([adjmat[i] for i in G.edges()]), edge_vmin=0, edge_vmax=5)\n",
    "\n",
    "for N in np.unique(all_Ns):\n",
    "\taxs[i].scatter([],[], color=\"gray\", s=N/10, alpha=0.7, label=r\"$N=$\"+str(N))\n",
    "for beta in np.unique(all_betas):\n",
    "\tcNorm = mpl.colors.Normalize(vmin=0.01, vmax=0.03)\n",
    "\tscalarMap = mpl.cm.ScalarMappable(norm=cNorm, cmap=plt.cm.Reds)\n",
    "\taxs[i].scatter([],[], color=scalarMap.to_rgba(beta), label=r\"$\\beta=$\"+str(beta))\n",
    "for c_ij in np.unique(all_cij):\n",
    "\tif c_ij != 0:\n",
    "\t\tcNorm = mpl.colors.Normalize(vmin=0, vmax=5)\n",
    "\t\tscalarMap = mpl.cm.ScalarMappable(norm=cNorm, cmap=plt.cm.gnuplot2)\n",
    "\t\taxs[i].plot([],[], color=scalarMap.to_rgba(-np.log10(c_ij)), label=r\"$c_{ij}=$\"+str(c_ij))\n",
    "fig.legend(bbox_to_anchor=[1, 0.5], loc='center left')\n",
    "fig.tight_layout()\n",
    "fig.savefig(\"plots/simulations.png\", bbox_inches=\"tight\")"
   ]
  },
  {
   "cell_type": "code",
   "execution_count": null,
   "id": "e309e1ba-321e-4277-80b4-169e261015ef",
   "metadata": {},
   "outputs": [],
   "source": [
    "fig, axs = plt.subplots(6, 3, figsize=(15,24))\n",
    "axs = axs.flatten()\n",
    "for i,metric in enumerate(metrics):\n",
    "\tfor simulation,group in file.items():\n",
    "\t\tif simulation == \"2\" or simulation == \"3\":\n",
    "\t\t\tvalues = collect_attribute_from_group(metric, group, applyfunc=lambda x: x[0])\n",
    "\t\t\tvalues.replace(-np.inf, np.nan, inplace=True)\n",
    "\t\t\tvalues.dropna(inplace=True)\n",
    "\t\t\taxs[i].hist(values, bins=50, color=plt.cm.tab10.colors[int(simulation)], alpha=0.5, label=simulation)\n",
    "\t\t\taxs[i].legend(ncols=4)\n",
    "\t\t\taxs[i].set_title(metric)\n",
    "fig.tight_layout()\n",
    "fig.savefig(\"plots/comparison_2vs3.png\")"
   ]
  },
  {
   "cell_type": "code",
   "execution_count": null,
   "id": "5b6f4d81-e988-4eb4-a5e6-6a9a5a71b707",
   "metadata": {},
   "outputs": [],
   "source": [
    "fig, axs = plt.subplots(6, 3, figsize=(15,24))\n",
    "axs = axs.flatten()\n",
    "for i,metric in enumerate(metrics):\n",
    "\tfor simulation,group in file.items():\n",
    "\t\tif simulation == \"0\" or simulation == \"1\":\n",
    "\t\t\tvalues = collect_attribute_from_group(metric, group, applyfunc=lambda x: x[0])\n",
    "\t\t\tvalues.replace(-np.inf, np.nan, inplace=True)\n",
    "\t\t\tvalues.dropna(inplace=True)\n",
    "\t\t\taxs[i].hist(values, bins=50, color=plt.cm.tab10.colors[int(simulation)], alpha=0.5, label=simulation)\n",
    "\t\t\taxs[i].legend(ncols=4)\n",
    "\t\t\taxs[i].set_title(metric)\n",
    "fig.tight_layout()\n",
    "fig.savefig(\"plots/comparison_0vs1.png\")"
   ]
  },
  {
   "cell_type": "code",
   "execution_count": null,
   "id": "b4ec8579-e287-4303-92c8-5f5f99b25634",
   "metadata": {},
   "outputs": [],
   "source": [
    "fig, axs = plt.subplots(6, 3, figsize=(15,24))\n",
    "axs = axs.flatten()\n",
    "for i,metric in enumerate(metrics):\n",
    "\tfor simulation,group in file.items():\n",
    "\t\tif simulation == \"0\" or simulation == \"4\":\n",
    "\t\t\tvalues = collect_attribute_from_group(metric, group, applyfunc=lambda x: x[0])\n",
    "\t\t\tvalues.replace(-np.inf, np.nan, inplace=True)\n",
    "\t\t\tvalues.dropna(inplace=True)\n",
    "\t\t\taxs[i].hist(values, bins=50, color=plt.cm.tab10.colors[int(simulation)], alpha=0.5, label=simulation)\n",
    "\t\t\taxs[i].legend(ncols=4)\n",
    "\t\t\taxs[i].set_title(metric)\n",
    "fig.tight_layout()\n",
    "fig.savefig(\"plots/comparison_0vs4.png\")"
   ]
  },
  {
   "cell_type": "code",
   "execution_count": null,
   "id": "56895716-7eda-4f2a-800e-a6300d1ee35f",
   "metadata": {},
   "outputs": [],
   "source": [
    "fig, axs = plt.subplots(6, 3, figsize=(15,24))\n",
    "axs = axs.flatten()\n",
    "for i,metric in enumerate(metrics):\n",
    "\tfor simulation,group in file.items():\n",
    "\t\tif simulation == \"5\" or simulation == \"4\":\n",
    "\t\t\tvalues = collect_attribute_from_group(metric, group, applyfunc=lambda x: x[0])\n",
    "\t\t\tvalues.replace(-np.inf, np.nan, inplace=True)\n",
    "\t\t\tvalues.dropna(inplace=True)\n",
    "\t\t\taxs[i].hist(values, bins=50, color=plt.cm.tab10.colors[int(simulation)], alpha=0.5, label=simulation)\n",
    "\t\t\taxs[i].legend(ncols=4)\n",
    "\t\t\taxs[i].set_title(metric)\n",
    "fig.tight_layout()\n",
    "fig.savefig(\"plots/comparison_4vs5.png\")"
   ]
  },
  {
   "cell_type": "code",
   "execution_count": null,
   "id": "ed29614f-c63d-4b84-a33e-2db17568a91e",
   "metadata": {},
   "outputs": [],
   "source": [
    "fig, axs = plt.subplots(6, 3, figsize=(15,24))\n",
    "axs = axs.flatten()\n",
    "for i,metric in enumerate(metrics):\n",
    "\tfor simulation,group in file.items():\n",
    "\t\tif simulation == \"0\" or simulation == \"6\" or simulation == \"7\":\n",
    "\t\t\tvalues = collect_attribute_from_group(metric, group, applyfunc=lambda x: x[0])\n",
    "\t\t\tvalues.replace(-np.inf, np.nan, inplace=True)\n",
    "\t\t\tvalues.dropna(inplace=True)\n",
    "\t\t\taxs[i].hist(values, bins=50, color=plt.cm.tab10.colors[int(simulation)], alpha=0.5, label=simulation)\n",
    "\t\t\taxs[i].legend(ncols=4)\n",
    "\t\t\taxs[i].set_title(metric)\n",
    "fig.tight_layout()\n",
    "fig.savefig(\"plots/comparison_0vs6vs7.png\")"
   ]
  },
  {
   "cell_type": "code",
   "execution_count": null,
   "id": "81a54e6c-b23d-498a-94b8-1a27db2eab71",
   "metadata": {},
   "outputs": [],
   "source": []
  }
 ],
 "metadata": {
  "kernelspec": {
   "display_name": "Python 3 (ipykernel)",
   "language": "python",
   "name": "python3"
  },
  "language_info": {
   "codemirror_mode": {
    "name": "ipython",
    "version": 3
   },
   "file_extension": ".py",
   "mimetype": "text/x-python",
   "name": "python",
   "nbconvert_exporter": "python",
   "pygments_lexer": "ipython3",
   "version": "3.10.12"
  }
 },
 "nbformat": 4,
 "nbformat_minor": 5
}
