{
 "cells": [
  {
   "cell_type": "code",
   "execution_count": null,
   "id": "44ced923-acca-4dfa-a611-42cdf6517bcd",
   "metadata": {},
   "outputs": [],
   "source": [
    "from TravelAndMutate.randominterface import NumpyRandomGenerator\n",
    "from TravelAndMutate.system import SystemMix as System"
   ]
  },
  {
   "cell_type": "code",
   "execution_count": null,
   "id": "2e8b247d-1af8-4c00-bebe-3576b9155578",
   "metadata": {},
   "outputs": [],
   "source": [
    "import numpy as np\n",
    "import pandas as pd\n",
    "from matplotlib import pyplot as plt\n",
    "from time import time\n",
    "from scipy.optimize import root_scalar"
   ]
  },
  {
   "cell_type": "code",
   "execution_count": null,
   "id": "dbaa3131-4d7d-4f8f-93ec-c597e5201660",
   "metadata": {},
   "outputs": [],
   "source": [
    "seed = np.prod([ord(c) for c in \"TravelAndMutate\"]).astype(\"uint32\")\n",
    "rng = NumpyRandomGenerator(seed)"
   ]
  },
  {
   "cell_type": "code",
   "execution_count": null,
   "id": "7727e9c6-922d-4f39-adc3-4d31067a50c1",
   "metadata": {},
   "outputs": [],
   "source": [
    "def kernel(rng, tmax, params, commuting_mat):\n",
    "    sys = System(rng.cpprng, commuting_mat, params.to_records(index=False))\n",
    "    sys.spreadForTime(tmax)\n",
    "    return [pd.DataFrame.from_records(sys.getFullTrajectory(p), index=\"t\") / params[\"N\"][p] for p in range(params.shape[0])]"
   ]
  },
  {
   "cell_type": "code",
   "execution_count": null,
   "id": "d26f62e0-91ee-45b6-bafc-fede9ff70e04",
   "metadata": {},
   "outputs": [],
   "source": [
    "def Rinf_equation(Rinf, R0, s0):\n",
    "    return 1 - Rinf - s0 * np.exp(-Rinf*R0)"
   ]
  },
  {
   "cell_type": "code",
   "execution_count": null,
   "id": "e36fa8e8-bc07-4864-9241-afce5a48f656",
   "metadata": {},
   "outputs": [],
   "source": [
    "Npatch = 4"
   ]
  },
  {
   "cell_type": "code",
   "execution_count": null,
   "id": "126cbc02-6159-4b2a-ae53-ecef2058b7ed",
   "metadata": {},
   "outputs": [],
   "source": [
    "start = time()\n",
    "\n",
    "commuting = np.where(np.eye(Npatch).astype(bool), 1, 0)# rng.rng.random(size=(Npatch,Npatch))/Npatch**2)\n",
    "display(pd.DataFrame(commuting))\n",
    "\n",
    "tmax = 10000\n",
    "\n",
    "params = pd.DataFrame()\n",
    "params[\"N\"] = np.full(Npatch, 1e6, dtype=\"u4\")\n",
    "params[\"beta\"] = np.full(Npatch, 0.06)# + rng.rng.normal(scale=0.01, size=Npatch)\n",
    "params[\"epsilon\"] = np.full(Npatch, 0.001)# + rng.rng.normal(scale=0.005, size=Npatch)\n",
    "params[\"mu\"] = np.full(Npatch, 0.03)# + rng.rng.normal(scale=0.005, size=Npatch)\n",
    "#params[\"I0\"] = np.full(Npatch, 10)\n",
    "params[\"I0\"] = params[\"N\"]\n",
    "params.index.name = \"Patch\"\n",
    "display(params)\n",
    "\n",
    "reps = 5\n",
    "for i in range(reps):\n",
    "    result = kernel(rng, tmax, params, commuting)\n",
    "\n",
    "end = time()\n",
    "print(f\"Duration per replica: {np.round((end-start)/5, 2)} sec\")\n",
    "\n",
    "params[\"R0\"] = (params[\"beta\"] / params[\"mu\"]) @ commuting\n",
    "\n",
    "fig, axs = plt.subplots(1,3,figsize=(12,3),sharey=True)\n",
    "for i in range(min(Npatch,len(axs))):\n",
    "    result[i].drop(\"S\", axis=1).plot(ax=axs[i])\n",
    "    axs[i].set_title(f\"Patch {i}\")\n",
    "    axs[i].set_xlabel(\"Time\")\n",
    "    axs[i].set_ylabel(\"Fraction\")\n",
    "    Rinf = root_scalar(Rinf_equation, args=(params[\"R0\"][i],1-params[\"I0\"][i]/params[\"N\"][i]), x0=params[\"R0\"][i]).root\n",
    "    #axs[i].axhline(Rinf, color=\"k\", linestyle=\":\")\n",
    "    axs[i].axhline(params[\"I0\"][i]/params[\"N\"][i], color=\"k\", linestyle=\":\")\n",
    "fig.tight_layout()"
   ]
  },
  {
   "cell_type": "code",
   "execution_count": null,
   "id": "8af2fffc-dce2-4de7-b034-9f4baf0034c8",
   "metadata": {},
   "outputs": [],
   "source": [
    "result[2][\"Inew\"].rolling(50).mean().plot()\n",
    "xs = np.linspace(1,tmax,101)\n",
    "epsilon = params[\"epsilon\"][0]\n",
    "plt.scatter(xs, epsilon*np.exp(-(xs-1)*epsilon), marker=\"o\", s=100, alpha=0.3, label=r\"$I_{new}(t) = \\varepsilon \\exp(-\\varepsilon(t-1))$\")\n",
    "plt.legend()\n",
    "plt.yscale(\"log\")"
   ]
  },
  {
   "cell_type": "code",
   "execution_count": null,
   "id": "572ee0db-109d-421e-a7a8-e06d21d6aa4d",
   "metadata": {},
   "outputs": [],
   "source": [
    "result[2][\"E\"].plot()\n",
    "xs = np.linspace(1,tmax,101)\n",
    "epsilon = params[\"epsilon\"][0]\n",
    "corr = (1+0.06)\n",
    "plt.scatter(xs, np.exp(-(xs-1)*epsilon), marker=\"o\", alpha=0.3, label=r\"$E(t) = \\exp(-\\varepsilon(t-1))$\")\n",
    "plt.legend()\n",
    "plt.yscale(\"log\")"
   ]
  },
  {
   "cell_type": "code",
   "execution_count": null,
   "id": "d7d7b36f-5edb-4a8f-bf1c-3df783e48be1",
   "metadata": {},
   "outputs": [],
   "source": []
  }
 ],
 "metadata": {
  "kernelspec": {
   "display_name": "Python 3 (ipykernel)",
   "language": "python",
   "name": "python3"
  },
  "language_info": {
   "codemirror_mode": {
    "name": "ipython",
    "version": 3
   },
   "file_extension": ".py",
   "mimetype": "text/x-python",
   "name": "python",
   "nbconvert_exporter": "python",
   "pygments_lexer": "ipython3",
   "version": "3.10.12"
  }
 },
 "nbformat": 4,
 "nbformat_minor": 5
}
