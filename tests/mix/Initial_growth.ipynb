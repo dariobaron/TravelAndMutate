{
 "cells": [
  {
   "cell_type": "code",
   "execution_count": null,
   "id": "7fc73ee2-8d7e-4ed3-995a-01976e50fe2f",
   "metadata": {},
   "outputs": [],
   "source": [
    "from importing import *\n",
    "from TravelAndMutate.randominterface import NumpyRandomGenerator\n",
    "from TravelAndMutate.system import SystemMix as System"
   ]
  },
  {
   "cell_type": "code",
   "execution_count": null,
   "id": "7a84a859-0a32-4f24-a0ae-ac3c243442d2",
   "metadata": {},
   "outputs": [],
   "source": [
    "import numpy as np\n",
    "import pandas as pd\n",
    "from matplotlib import pyplot as plt\n",
    "import seaborn as sb\n",
    "from time import time\n",
    "from scipy.optimize import root_scalar"
   ]
  },
  {
   "cell_type": "code",
   "execution_count": null,
   "id": "323ce292-09b7-4d17-9e55-8469808bf29c",
   "metadata": {},
   "outputs": [],
   "source": [
    "seed = np.prod([ord(c) for c in \"TravelAndMutate\"]).astype(\"uint32\")\n",
    "rng = NumpyRandomGenerator(seed)"
   ]
  },
  {
   "cell_type": "code",
   "execution_count": null,
   "id": "f162e37b-fb37-4e05-859d-813606d98a4f",
   "metadata": {},
   "outputs": [],
   "source": [
    "def kernel(rng, tmax, params, commuting_mat):\n",
    "    sys = System(rng.cpprng, commuting_mat, params.to_records(index=False))\n",
    "    sys.spreadForTime(tmax)\n",
    "    return [pd.DataFrame.from_records(sys.getFullTrajectory(p), index=\"t\") / params[\"N\"][p] for p in range(params.shape[0])]"
   ]
  },
  {
   "cell_type": "code",
   "execution_count": null,
   "id": "4f3ecca0-0132-4fb0-87d3-8312677cf707",
   "metadata": {},
   "outputs": [],
   "source": [
    "start = time()\n",
    "\n",
    "Npatch = 2\n",
    "tmax = 100000\n",
    "reps = 30\n",
    "commuting = np.diag(np.full(Npatch, 1))\n",
    "betas = np.linspace(0.4,0.6,2)\n",
    "epsilons = np.linspace(0.1,0.5,2)\n",
    "mus = np.linspace(0.2,0.3,2)\n",
    "\n",
    "results = []\n",
    "\n",
    "for j,beta in enumerate(betas):\n",
    "\tfor k,epsilon in enumerate(epsilons):\n",
    "\t\tfor l,mu in enumerate(mus):\n",
    "\t\t\tfor i in range(reps):\n",
    "\t\t\t\n",
    "\t\t\t\tparams = pd.DataFrame()\n",
    "\t\t\t\tparams[\"N\"] = np.full(Npatch, 1e5, dtype=\"u4\")\n",
    "\t\t\t\tparams[\"beta\"] = np.full(Npatch, beta)\n",
    "\t\t\t\tparams[\"epsilon\"] = np.full(Npatch, epsilon)\n",
    "\t\t\t\tparams[\"mu\"] = np.full(Npatch, mu)\n",
    "\t\t\t\tparams[\"I0\"] = np.zeros(Npatch, dtype=\"u4\")\n",
    "\t\t\t\tparams.loc[0, \"I0\"] = 2\n",
    "\t\t\t\tparams.index.name = \"Patch\"\n",
    "\t\n",
    "\t\t\t\tresult = kernel(rng, tmax, params, commuting)\n",
    "\t\t\t\tdf = result[0][\"I\"].reset_index()\n",
    "\t\t\t\tdf[\"t\"] = df[\"t\"].astype(int) - df[\"t\"].iloc[result[0][\"I\"].argmax()]\n",
    "\t\t\t\tdf[\"beta\"] = beta\n",
    "\t\t\t\tdf[\"epsilon\"] = epsilon\n",
    "\t\t\t\tdf[\"mu\"] = mu\n",
    "\t\t\t\tresults.append(df)\n",
    "\t\t\t\tprint(f\"{(((j*len(epsilons)+k)*len(mus)+l)*reps+i)*100//(len(betas)*len(epsilons)*len(mus)*reps)}%\", flush=True, end=\"\\r\")\n",
    "\n",
    "results = pd.concat(results)\n",
    "\n",
    "end = time()\n",
    "print(f\"Time elapsed: {end-start} sec\")"
   ]
  },
  {
   "cell_type": "code",
   "execution_count": null,
   "id": "c045665c-9be5-4aab-901e-3aef6fa890d1",
   "metadata": {},
   "outputs": [],
   "source": [
    "#results[\"t\"] = results[\"t\"] - results[\"t\"].min()\n",
    "results[\"epsilon\"] = pd.Categorical(results[\"epsilon\"])\n",
    "results[\"mu\"] = pd.Categorical(results[\"mu\"])"
   ]
  },
  {
   "attachments": {},
   "cell_type": "markdown",
   "id": "21f935fe-eb14-4229-addf-2a0ff47b4473",
   "metadata": {},
   "source": [
    "The equation is\n",
    "\n",
    "$$\n",
    "\\begin{pmatrix}\n",
    "\\dot{S} \\\\\n",
    "\\dot{E} \\\\\n",
    "\\dot{I} \\\\\n",
    "\\dot{R}\n",
    "\\end{pmatrix}\n",
    "=\n",
    "\\begin{pmatrix}\n",
    "-\\beta S I \\\\\n",
    "+\\beta S I - \\varepsilon E \\\\\n",
    "+\\varepsilon E - \\mu I \\\\\n",
    "+\\mu I\n",
    "\\end{pmatrix}\n",
    "$$\n",
    "\n",
    "The Jacobian $J_{ij} = \\partial_j f_i$ is\n",
    "\n",
    "$$\n",
    "J = \n",
    "\\begin{pmatrix}\n",
    "-\\beta I & 0 & -\\beta S & 0 \\\\\n",
    "+\\beta I & -\\varepsilon & +\\beta S & 0 \\\\\n",
    "0 & +\\varepsilon & -\\mu & 0 \\\\\n",
    "0 & 0 & +\\mu & 0\n",
    "\\end{pmatrix}\n",
    "$$\n",
    "\n",
    "which evaluated in the initial state $S = 1$ and $I = 0$ becomes\n",
    "\n",
    "$$\n",
    "J = \n",
    "\\begin{pmatrix}\n",
    "0 & 0 & -\\beta & 0 \\\\\n",
    "0 & -\\varepsilon & +\\beta & 0 \\\\\n",
    "0 & +\\varepsilon & -\\mu & 0 \\\\\n",
    "0 & 0 & +\\mu & 0\n",
    "\\end{pmatrix}\n",
    "$$\n",
    "\n",
    "which has eigenvalues $\\lambda_1 = 0$, $\\lambda_2 = 0$, $\\lambda_{3,4} = \\frac{1}{2}\\left( \\pm \\sqrt{\\varepsilon^2 + 4\\beta\\varepsilon - 2\\varepsilon\\mu + \\mu^2} - \\left(\\varepsilon+\\mu\\right) \\right)$\n",
    "\n",
    "$$\n",
    "\\frac{1}{2}\\left( \\pm \\sqrt{4\\beta\\varepsilon - 4\\varepsilon\\mu + \\left(\\varepsilon+\\mu\\right)^2} - \\left(\\varepsilon+\\mu\\right) \\right)\n",
    "$$\n",
    "\n",
    "$$\n",
    "\\frac{1}{2}\\left( \\pm \\sqrt{4\\left(\\beta - \\mu\\right)\\varepsilon + \\left(\\varepsilon+\\mu\\right)^2} - \\left(\\varepsilon+\\mu\\right) \\right)\n",
    "$$\n",
    "\n",
    "$$\n",
    "\\frac{1}{2}\\left( \\pm \\sqrt{4\\left(R_0 - 1\\right)\\varepsilon\\mu + \\left(\\varepsilon+\\mu\\right)^2} - \\left(\\varepsilon+\\mu\\right) \\right)\n",
    "$$"
   ]
  },
  {
   "cell_type": "code",
   "execution_count": null,
   "id": "5927422d-689e-411b-95ea-7a67ab88c62c",
   "metadata": {},
   "outputs": [],
   "source": [
    "def f(t, t0, beta, epsilon, mu, I0):\n",
    "\texponent = np.sqrt(4*(beta/mu-1)*epsilon*mu + (epsilon+mu)**2) - (epsilon+mu)\n",
    "\treturn I0 * np.exp(1/2 * exponent * (t-t0))"
   ]
  },
  {
   "cell_type": "code",
   "execution_count": null,
   "id": "31321002-659f-4d1b-98e5-e253ebab7ab0",
   "metadata": {},
   "outputs": [],
   "source": [
    "from matplotlib.colors import Normalize"
   ]
  },
  {
   "cell_type": "code",
   "execution_count": null,
   "id": "06d16885-057b-47ac-ba13-e7de6a43484b",
   "metadata": {},
   "outputs": [],
   "source": [
    "#plot = sb.relplot(data=results, x=\"t\", y=\"I\", hue=\"beta\", col=\"epsilon\", row=\"mu\", kind=\"line\", palette=\"coolwarm\")\n",
    "fig, axs = plt.subplots(2,2,figsize=(8,6))\n",
    "axs = axs.flatten()\n",
    "mycolors = plt.cm.coolwarm(Normalize(min(betas),max(betas))(betas))\n",
    "#axs = plot.axes.flatten()\n",
    "t0s = [[170,100],[85,55],[300,150],[150,70]]\n",
    "for i,ax in enumerate(axs):\n",
    "\tfor j,beta in enumerate(betas):\n",
    "\t\tmask = np.logical_and(results[\"mu\"]==mus[i//len(epsilons)], results[\"epsilon\"]==epsilons[i%len(epsilons)])\n",
    "\t\tfiltered = results.loc[mask]\n",
    "\t\tfiltered = filtered.loc[filtered[\"beta\"]==beta]\n",
    "\t\tfiltered = filtered[[\"t\",\"I\"]].groupby(\"t\").mean()\n",
    "\t\tts = np.linspace(0,150,101)\n",
    "\t\tax.plot(ts-t0s[i][j], f(ts, 0, beta, epsilons[i%len(epsilons)], mus[i//len(epsilons)], 2/1e5), ls=\":\", color=mycolors[j], label=str(beta))\n",
    "\t\tax.plot(filtered, color=mycolors[j], label=str(beta))\n",
    "\tax.set_title(r\"$\\varepsilon = $\"+str(epsilons[i%len(epsilons)])+r\" , $\\mu = $\"+str(mus[i//len(epsilons)]))\n",
    "\tax.set_yscale(\"log\")\n",
    "\tax.set_ylim([1e-6,1])\n",
    "\t#ax.set_xlim([-130,200])\n",
    "\tax.legend(title=r\"$\\beta$\")\n",
    "fig.tight_layout()\n",
    "fig.savefig(\"../../plots/mix/initial_growth.png\")"
   ]
  },
  {
   "cell_type": "code",
   "execution_count": null,
   "id": "5a674279-08ae-4cba-9820-5ba78222e07a",
   "metadata": {},
   "outputs": [],
   "source": []
  }
 ],
 "metadata": {
  "kernelspec": {
   "display_name": "Python 3 (ipykernel)",
   "language": "python",
   "name": "python3"
  },
  "language_info": {
   "codemirror_mode": {
    "name": "ipython",
    "version": 3
   },
   "file_extension": ".py",
   "mimetype": "text/x-python",
   "name": "python",
   "nbconvert_exporter": "python",
   "pygments_lexer": "ipython3",
   "version": "3.10.12"
  }
 },
 "nbformat": 4,
 "nbformat_minor": 5
}
