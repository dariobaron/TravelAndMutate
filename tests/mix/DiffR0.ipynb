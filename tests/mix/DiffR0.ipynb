{
 "cells": [
  {
   "cell_type": "code",
   "execution_count": 1,
   "id": "2f725373-44a6-4202-ba5e-f03ffc8196b7",
   "metadata": {},
   "outputs": [],
   "source": [
    "from importing import *\n",
    "from TravelAndMutate.randominterface import NumpyRandomGenerator\n",
    "from TravelAndMutate.system import SystemMix as System"
   ]
  },
  {
   "cell_type": "code",
   "execution_count": 2,
   "id": "0abe3cbc-22d8-4732-a20f-3d8a46973abb",
   "metadata": {},
   "outputs": [],
   "source": [
    "import numpy as np\n",
    "import pandas as pd\n",
    "from matplotlib import pyplot as plt\n",
    "from time import time\n",
    "from scipy.optimize import root_scalar"
   ]
  },
  {
   "cell_type": "code",
   "execution_count": 3,
   "id": "ec86fc3b-1a16-44a5-aaf6-15a2d61a4c04",
   "metadata": {},
   "outputs": [],
   "source": [
    "seed = np.prod([ord(c) for c in \"TravelAndMutate\"]).astype(\"uint32\")\n",
    "rng = NumpyRandomGenerator(seed)"
   ]
  },
  {
   "cell_type": "code",
   "execution_count": 4,
   "id": "92476adb-60b9-4664-8e2b-4d7ccaaac7ce",
   "metadata": {},
   "outputs": [],
   "source": [
    "def kernel(rng, tmax, params, commuting_mat):\n",
    "    sys = System(rng.cpprng, 1, commuting_mat, params.to_records(index=False))\n",
    "    sys.spreadForTime(tmax)\n",
    "    return [pd.DataFrame.from_records(sys.getFullTrajectory(p), index=\"t\") / params[\"N\"][p] for p in range(params.shape[0])]"
   ]
  },
  {
   "cell_type": "code",
   "execution_count": 5,
   "id": "ee6dea74-47aa-45e9-8fd8-78c57cc5e076",
   "metadata": {},
   "outputs": [],
   "source": [
    "def Rinf_equation(Rinf, R0, s0):\n",
    "    return 1 - Rinf - s0 * np.exp(-Rinf*R0)"
   ]
  },
  {
   "cell_type": "code",
   "execution_count": 6,
   "id": "b72d685e-4244-4669-aa7a-c03f886617f1",
   "metadata": {},
   "outputs": [
    {
     "data": {
      "text/html": [
       "<div>\n",
       "<style scoped>\n",
       "    .dataframe tbody tr th:only-of-type {\n",
       "        vertical-align: middle;\n",
       "    }\n",
       "\n",
       "    .dataframe tbody tr th {\n",
       "        vertical-align: top;\n",
       "    }\n",
       "\n",
       "    .dataframe thead th {\n",
       "        text-align: right;\n",
       "    }\n",
       "</style>\n",
       "<table border=\"1\" class=\"dataframe\">\n",
       "  <thead>\n",
       "    <tr style=\"text-align: right;\">\n",
       "      <th></th>\n",
       "      <th>0</th>\n",
       "      <th>1</th>\n",
       "      <th>2</th>\n",
       "    </tr>\n",
       "  </thead>\n",
       "  <tbody>\n",
       "    <tr>\n",
       "      <th>0</th>\n",
       "      <td>1.000000</td>\n",
       "      <td>0.075914</td>\n",
       "      <td>0.059231</td>\n",
       "    </tr>\n",
       "    <tr>\n",
       "      <th>1</th>\n",
       "      <td>0.031111</td>\n",
       "      <td>1.000000</td>\n",
       "      <td>0.009947</td>\n",
       "    </tr>\n",
       "    <tr>\n",
       "      <th>2</th>\n",
       "      <td>0.000219</td>\n",
       "      <td>0.063203</td>\n",
       "      <td>1.000000</td>\n",
       "    </tr>\n",
       "  </tbody>\n",
       "</table>\n",
       "</div>"
      ],
      "text/plain": [
       "          0         1         2\n",
       "0  1.000000  0.075914  0.059231\n",
       "1  0.031111  1.000000  0.009947\n",
       "2  0.000219  0.063203  1.000000"
      ]
     },
     "metadata": {},
     "output_type": "display_data"
    },
    {
     "data": {
      "text/html": [
       "<div>\n",
       "<style scoped>\n",
       "    .dataframe tbody tr th:only-of-type {\n",
       "        vertical-align: middle;\n",
       "    }\n",
       "\n",
       "    .dataframe tbody tr th {\n",
       "        vertical-align: top;\n",
       "    }\n",
       "\n",
       "    .dataframe thead th {\n",
       "        text-align: right;\n",
       "    }\n",
       "</style>\n",
       "<table border=\"1\" class=\"dataframe\">\n",
       "  <thead>\n",
       "    <tr style=\"text-align: right;\">\n",
       "      <th></th>\n",
       "      <th>N</th>\n",
       "      <th>beta</th>\n",
       "      <th>epsilon</th>\n",
       "      <th>mu</th>\n",
       "      <th>I0</th>\n",
       "      <th>R0</th>\n",
       "    </tr>\n",
       "    <tr>\n",
       "      <th>Patch</th>\n",
       "      <th></th>\n",
       "      <th></th>\n",
       "      <th></th>\n",
       "      <th></th>\n",
       "      <th></th>\n",
       "      <th></th>\n",
       "    </tr>\n",
       "  </thead>\n",
       "  <tbody>\n",
       "    <tr>\n",
       "      <th>0</th>\n",
       "      <td>1000000</td>\n",
       "      <td>0.061043</td>\n",
       "      <td>0.095366</td>\n",
       "      <td>0.039351</td>\n",
       "      <td>2</td>\n",
       "      <td>1.792283</td>\n",
       "    </tr>\n",
       "    <tr>\n",
       "      <th>1</th>\n",
       "      <td>1000000</td>\n",
       "      <td>0.046905</td>\n",
       "      <td>0.098848</td>\n",
       "      <td>0.033507</td>\n",
       "      <td>2</td>\n",
       "      <td>1.470772</td>\n",
       "    </tr>\n",
       "    <tr>\n",
       "      <th>2</th>\n",
       "      <td>1000000</td>\n",
       "      <td>0.058341</td>\n",
       "      <td>0.099740</td>\n",
       "      <td>0.025645</td>\n",
       "      <td>2</td>\n",
       "      <td>2.363728</td>\n",
       "    </tr>\n",
       "  </tbody>\n",
       "</table>\n",
       "</div>"
      ],
      "text/plain": [
       "             N      beta   epsilon        mu  I0        R0\n",
       "Patch                                                     \n",
       "0      1000000  0.061043  0.095366  0.039351   2  1.792283\n",
       "1      1000000  0.046905  0.098848  0.033507   2  1.470772\n",
       "2      1000000  0.058341  0.099740  0.025645   2  2.363728"
      ]
     },
     "metadata": {},
     "output_type": "display_data"
    },
    {
     "name": "stdout",
     "output_type": "stream",
     "text": [
      "Duration per replica: 0.06 sec\n"
     ]
    },
    {
     "data": {
      "image/png": "[encoded data removed]",
      "text/plain": [
       "<Figure size 1200x300 with 3 Axes>"
      ]
     },
     "metadata": {},
     "output_type": "display_data"
    }
   ],
   "source": [
    "start = time()\n",
    "\n",
    "Npatch = 3\n",
    "\n",
    "commuting = np.where(np.eye(Npatch).astype(bool), 1, rng.rng.random(size=(Npatch,Npatch))/Npatch**2)\n",
    "display(pd.DataFrame(commuting))\n",
    "\n",
    "tmax = 1000\n",
    "\n",
    "params = pd.DataFrame()\n",
    "params[\"N\"] = np.full(Npatch, 1e6, dtype=\"u4\")\n",
    "params[\"beta\"] = np.full(Npatch, 0.06) + rng.rng.normal(scale=0.01, size=Npatch)\n",
    "params[\"epsilon\"] = np.full(Npatch, 0.1) + rng.rng.normal(scale=0.005, size=Npatch)\n",
    "params[\"mu\"] = np.full(Npatch, 0.03) + rng.rng.normal(scale=0.005, size=Npatch)\n",
    "params[\"I0\"] = np.full(Npatch, 2, dtype=\"u4\")\n",
    "params.index.name = \"Patch\"\n",
    "display(params)\n",
    "\n",
    "reps = 5\n",
    "for i in range(reps):\n",
    "    result = kernel(rng, tmax, params, commuting)\n",
    "\n",
    "end = time()\n",
    "print(f\"Duration per replica: {np.round((end-start)/5, 2)} sec\")\n",
    "\n",
    "params[\"R0\"] = commuting @ (params[\"beta\"] / params[\"mu\"])\n",
    "\n",
    "fig, axs = plt.subplots(1,3,figsize=(12,3),sharey=True)\n",
    "for i in range(min(Npatch,len(axs))):\n",
    "\tresult[i].drop(\"S\", axis=1).plot(ax=axs[i])\n",
    "\taxs[i].set_title(f\"Patch {i}\")\n",
    "\taxs[i].set_xlabel(\"Time\")\n",
    "\taxs[i].set_ylabel(\"Fraction\")\n",
    "\tRinf = root_scalar(Rinf_equation, args=(params[\"R0\"][i],1-params[\"I0\"][i]/params[\"N\"][i]), x0=params[\"R0\"][i]).root\n",
    "\taxs[i].axhline(Rinf, color=\"k\", linestyle=\":\")\n",
    "\taxs[i].set_ylim([-0.05,1.05])\n",
    "fig.tight_layout()"
   ]
  },
  {
   "cell_type": "code",
   "execution_count": null,
   "id": "12c043de-914d-444b-bfc0-a1e7dcd63085",
   "metadata": {},
   "outputs": [],
   "source": []
  },
  {
   "cell_type": "code",
   "execution_count": 10,
   "id": "b5113375-5f97-4fb4-8678-ef52abd8f1f7",
   "metadata": {},
   "outputs": [
    {
     "name": "stdout",
     "output_type": "stream",
     "text": [
      "|   Patch |     N |      beta |   epsilon |        mu |   I0 |      R0 |\n",
      "|--------:|------:|----------:|----------:|----------:|-----:|--------:|\n",
      "|       0 | 1e+06 | 0.0610435 | 0.0953655 | 0.0393507 |    2 | 1.79228 |\n",
      "|       1 | 1e+06 | 0.0469055 | 0.0988482 | 0.0335067 |    2 | 1.47077 |\n",
      "|       2 | 1e+06 | 0.0583409 | 0.0997395 | 0.0256454 |    2 | 2.36373 |\n"
     ]
    }
   ],
   "source": [
    "print(params.to_markdown())"
   ]
  },
  {
   "cell_type": "code",
   "execution_count": null,
   "id": "e80e64dc-e1fa-4357-a08b-657a13e2e11f",
   "metadata": {},
   "outputs": [],
   "source": [
    "°"
   ]
  }
 ],
 "metadata": {
  "kernelspec": {
   "display_name": "Python 3 (ipykernel)",
   "language": "python",
   "name": "python3"
  },
  "language_info": {
   "codemirror_mode": {
    "name": "ipython",
    "version": 3
   },
   "file_extension": ".py",
   "mimetype": "text/x-python",
   "name": "python",
   "nbconvert_exporter": "python",
   "pygments_lexer": "ipython3",
   "version": "3.10.12"
  }
 },
 "nbformat": 4,
 "nbformat_minor": 5
}
