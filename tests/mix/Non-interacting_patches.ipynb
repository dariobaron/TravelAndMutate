{
 "cells": [
  {
   "cell_type": "code",
   "execution_count": null,
   "id": "cb42f0b4-a6da-4133-a353-b3233cb37269",
   "metadata": {},
   "outputs": [],
   "source": [
    "from importing import *\n",
    "from TravelAndMutate.randominterface import NumpyRandomGenerator\n",
    "from TravelAndMutate.system import SystemMix as System"
   ]
  },
  {
   "cell_type": "code",
   "execution_count": null,
   "id": "4fc83a5b-d050-43ae-a695-85f031adc295",
   "metadata": {},
   "outputs": [],
   "source": [
    "import numpy as np\n",
    "import pandas as pd\n",
    "from matplotlib import pyplot as plt\n",
    "from time import time\n",
    "from scipy.optimize import root_scalar"
   ]
  },
  {
   "cell_type": "code",
   "execution_count": null,
   "id": "ea012d56-292d-4073-af8e-cbd96df82143",
   "metadata": {},
   "outputs": [],
   "source": [
    "seed = np.prod([ord(c) for c in \"TravelAndMutate\"]).astype(\"uint32\")\n",
    "rng = NumpyRandomGenerator(seed)"
   ]
  },
  {
   "cell_type": "code",
   "execution_count": null,
   "id": "0cb168d1-6b57-4cf6-934b-cfce30a0481d",
   "metadata": {},
   "outputs": [],
   "source": [
    "def kernel(rng, tmax, params, commuting_mat):\n",
    "    sys = System(rng.cpprng, commuting_mat, params.to_records(index=False))\n",
    "    sys.spreadForTime(tmax)\n",
    "    return [pd.DataFrame.from_records(sys.getFullTrajectory(p), index=\"t\") / params[\"N\"][p] for p in range(params.shape[0])]"
   ]
  },
  {
   "cell_type": "code",
   "execution_count": null,
   "id": "4392c53d-9f50-4e14-afe5-95db1f9e70d5",
   "metadata": {},
   "outputs": [],
   "source": [
    "def Rinf_equation(Rinf, R0, s0):\n",
    "    return 1 - Rinf - s0 * np.exp(-Rinf*R0)"
   ]
  },
  {
   "cell_type": "code",
   "execution_count": null,
   "id": "f2d72bb5-6802-45c5-a427-e6211033bb58",
   "metadata": {},
   "outputs": [],
   "source": [
    "start = time()\n",
    "\n",
    "Npatch = 5\n",
    "\n",
    "commuting = np.where(np.eye(Npatch).astype(bool), 1, 0)\n",
    "display(pd.DataFrame(commuting))\n",
    "\n",
    "tmax = 1500\n",
    "\n",
    "params = pd.DataFrame()\n",
    "params[\"N\"] = np.full(Npatch, 1e6, dtype=\"u4\")\n",
    "params[\"beta\"] = np.full(Npatch, 0.06)\n",
    "params[\"epsilon\"] = np.full(Npatch, 0.1)\n",
    "params[\"mu\"] = np.full(Npatch, 0.03)\n",
    "params[\"I0\"] = np.full(Npatch, 2, dtype=\"u4\")\n",
    "params.index.name = \"Patch\"\n",
    "display(params)\n",
    "\n",
    "reps = 100\n",
    "avgs = []\n",
    "for i in range(reps):\n",
    "\tresult = kernel(rng, tmax, params, commuting)\n",
    "\tavgs.append([r[\"R\"].iloc[-1] for r in result])\n",
    "avgs = np.array(avgs)\n",
    "\n",
    "end = time()\n",
    "print(f\"Duration per replica: {np.round((end-start)/reps, 2)} sec\")\n",
    "\n",
    "params[\"R0\"] = commuting @ (params[\"beta\"] / params[\"mu\"])\n",
    "\n",
    "print()\n",
    "print(f\"Measured survived {np.sum(avgs > 0.2)/reps/Npatch}, expected {1-(1-1/params['R0'][0])**params['I0'][0]}\")\n",
    "\n",
    "fig = plt.figure(figsize=(8,6))\n",
    "gs = plt.GridSpec(Npatch, 2)\n",
    "\n",
    "axs = [fig.add_subplot(gs[0,0])]\n",
    "axs = axs + [fig.add_subplot(gs[i,0], sharex=axs[0]) for i in range(1,Npatch)]\n",
    "axs = axs + [fig.add_subplot(gs[:,1])]\n",
    "for i in range(Npatch):\n",
    "\tresult[i][[\"S\",\"E\",\"I\",\"R\"]].plot(ax=axs[i])\n",
    "\taxs[i].set_xlabel(\"Time\")\n",
    "\taxs[i].set_ylabel(\"Fraction\")\n",
    "\tRinf = root_scalar(Rinf_equation, args=(params[\"R0\"][i],1-params[\"I0\"][i]/params[\"N\"][i]), x0=params[\"R0\"][i]).root\n",
    "\taxs[i].axhline(Rinf, color=\"k\", linestyle=\":\")\n",
    "\taxs[i].set_ylim([-0.05,1.05])\n",
    "\taxs[i].legend(title=f\"Patch {i}\", ncol=2)\n",
    "\n",
    "axs[-1].hist(avgs, bins=np.linspace(0,1,11), stacked=True)\n",
    "axs[-1].set_ylabel(\"Counts\")\n",
    "axs[-1].set_xlabel(r\"$R_\\infty$\")\n",
    "\n",
    "fig.tight_layout(h_pad=0.1)"
   ]
  },
  {
   "cell_type": "code",
   "execution_count": null,
   "id": "ea945536-75f2-4ea6-997e-3758bba3a975",
   "metadata": {},
   "outputs": [],
   "source": []
  }
 ],
 "metadata": {
  "kernelspec": {
   "display_name": "Python 3 (ipykernel)",
   "language": "python",
   "name": "python3"
  },
  "language_info": {
   "codemirror_mode": {
    "name": "ipython",
    "version": 3
   },
   "file_extension": ".py",
   "mimetype": "text/x-python",
   "name": "python",
   "nbconvert_exporter": "python",
   "pygments_lexer": "ipython3",
   "version": "3.10.12"
  }
 },
 "nbformat": 4,
 "nbformat_minor": 5
}
