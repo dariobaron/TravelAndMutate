{
 "cells": [
  {
   "cell_type": "code",
   "execution_count": null,
   "id": "7fc73ee2-8d7e-4ed3-995a-01976e50fe2f",
   "metadata": {},
   "outputs": [],
   "source": [
    "from importing import *\n",
    "from TravelAndMutate.randominterface import NumpyRandomGenerator\n",
    "from TravelAndMutate.system import SystemMix as System"
   ]
  },
  {
   "cell_type": "code",
   "execution_count": null,
   "id": "7a84a859-0a32-4f24-a0ae-ac3c243442d2",
   "metadata": {},
   "outputs": [],
   "source": [
    "import numpy as np\n",
    "import pandas as pd\n",
    "from matplotlib import pyplot as plt\n",
    "import seaborn as sb\n",
    "from time import time\n",
    "from scipy.optimize import root_scalar"
   ]
  },
  {
   "cell_type": "code",
   "execution_count": null,
   "id": "323ce292-09b7-4d17-9e55-8469808bf29c",
   "metadata": {},
   "outputs": [],
   "source": [
    "seed = np.prod([ord(c) for c in \"TravelAndMutate\"]).astype(\"uint32\")\n",
    "rng = NumpyRandomGenerator(seed)"
   ]
  },
  {
   "cell_type": "code",
   "execution_count": null,
   "id": "e21b37dd-c0da-45d0-bfa9-0e74302d9be2",
   "metadata": {},
   "outputs": [],
   "source": [
    "def kernel(rng, tmax, params, commuting_mat):\n",
    "    sys = System(rng.cpprng, commuting_mat, params.to_records(index=False))\n",
    "    sys.spreadForTime(tmax)\n",
    "    return [pd.DataFrame.from_records(sys.getFullTrajectory(p), index=\"t\") / params[\"N\"][p] for p in range(params.shape[0])]"
   ]
  },
  {
   "cell_type": "code",
   "execution_count": null,
   "id": "4f3ecca0-0132-4fb0-87d3-8312677cf707",
   "metadata": {},
   "outputs": [],
   "source": [
    "start = time()\n",
    "\n",
    "Npatch = 2\n",
    "tmax = 100000\n",
    "reps = 100\n",
    "c_ijs = np.linspace(0,1,11)\n",
    "betas = np.linspace(0.04,0.15,23)\n",
    "\n",
    "results = []\n",
    "\n",
    "for j,c_ij in enumerate(c_ijs):\n",
    "\tfor k,beta in enumerate(betas):\n",
    "\t\tfor i in range(reps):\n",
    "\t\t\t\n",
    "\t\t\tcommuting = np.diag(np.full(Npatch, 1))\n",
    "\t\t\tcommuting = commuting + np.diag(np.full(Npatch-1, c_ij), -1)\n",
    "\t\t\tcommuting = commuting + np.diag(np.full(Npatch-1, c_ij), 1)\n",
    "\t\t\tcommuting[(Npatch-1,0),(0,Npatch-1)] = c_ij\n",
    "\t\t\t\n",
    "\t\t\tparams = pd.DataFrame()\n",
    "\t\t\tparams[\"N\"] = np.full(Npatch, 1e5, dtype=\"u4\")\n",
    "\t\t\tparams[\"beta\"] = np.full(Npatch, beta)\n",
    "\t\t\tparams[\"epsilon\"] = np.full(Npatch, 0.1)\n",
    "\t\t\tparams[\"mu\"] = np.full(Npatch, 0.1)\n",
    "\t\t\tparams[\"I0\"] = np.zeros(Npatch, dtype=\"u4\")\n",
    "\t\t\tparams.loc[rng.rng.integers(Npatch), \"I0\"] = 2\n",
    "\t\t\tparams.index.name = \"Patch\"\n",
    "\n",
    "\t\t\tresult = kernel(rng, tmax, params, commuting)\n",
    "\t\t\tresults.append([c_ij, beta, np.sum([r[\"R\"].iloc[-1]/Npatch for r in result])])\n",
    "\t\tprint(f\"{(j*len(betas)+k)*100//(len(c_ijs)*len(betas)*reps)}%\", flush=True, end=\"\\r\")\n",
    "\n",
    "results = pd.DataFrame(results, columns=[\"c_ij\", \"beta\", \"R\"])\n",
    "\n",
    "end = time()\n",
    "print(f\"Duration per replica: {np.round((end-start)/reps/len(c_ijs)/len(betas), 2)} sec\")"
   ]
  },
  {
   "cell_type": "code",
   "execution_count": null,
   "id": "97d0cd5c-b439-42c0-a6b3-7234bc24a4cb",
   "metadata": {},
   "outputs": [],
   "source": [
    "results"
   ]
  },
  {
   "cell_type": "code",
   "execution_count": null,
   "id": "06d16885-057b-47ac-ba13-e7de6a43484b",
   "metadata": {},
   "outputs": [],
   "source": [
    "sb.lineplot(data=results, x=\"beta\", y=\"R\", hue=\"c_ij\")\n",
    "plt.savefig(\"../../plots/mix/phase_transition.png\")"
   ]
  },
  {
   "cell_type": "code",
   "execution_count": null,
   "id": "5a674279-08ae-4cba-9820-5ba78222e07a",
   "metadata": {},
   "outputs": [],
   "source": []
  }
 ],
 "metadata": {
  "kernelspec": {
   "display_name": "Python 3 (ipykernel)",
   "language": "python",
   "name": "python3"
  },
  "language_info": {
   "codemirror_mode": {
    "name": "ipython",
    "version": 3
   },
   "file_extension": ".py",
   "mimetype": "text/x-python",
   "name": "python",
   "nbconvert_exporter": "python",
   "pygments_lexer": "ipython3",
   "version": "3.10.12"
  }
 },
 "nbformat": 4,
 "nbformat_minor": 5
}
