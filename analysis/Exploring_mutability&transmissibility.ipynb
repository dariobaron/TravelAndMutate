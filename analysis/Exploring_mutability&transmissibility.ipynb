{
 "cells": [
  {
   "cell_type": "code",
   "execution_count": null,
   "id": "a7351e50-4e00-4652-a4f8-d271b3ccb7f4",
   "metadata": {},
   "outputs": [],
   "source": [
    "import os\n",
    "os.chdir(\"..\")"
   ]
  },
  {
   "cell_type": "code",
   "execution_count": null,
   "id": "03403607-e86d-4691-9093-11b9ae7ab9ca",
   "metadata": {},
   "outputs": [],
   "source": [
    "import h5py\n",
    "import pandas as pd\n",
    "import numpy as np\n",
    "import matplotlib.pyplot as plt\n",
    "import matplotlib\n",
    "import seaborn as sb\n",
    "from scipy.stats import erlang, expon, gamma\n",
    "from scipy.integrate import quad, dblquad, tplquad\n",
    "from TravelAndMutate.quickanalysis import computeDepths, computeChildren\n",
    "import TravelAndMutate.datamanager as datman"
   ]
  },
  {
   "cell_type": "markdown",
   "id": "5b7d03f5-efa0-4840-a6cb-834fce18455b",
   "metadata": {},
   "source": [
    "Check [this link](https://hackmd.io/@dariobaron/SkCdQAdMR) for info and formalism"
   ]
  },
  {
   "cell_type": "code",
   "execution_count": null,
   "id": "24349e2b-d53c-40d7-8f0c-deffec31d85e",
   "metadata": {},
   "outputs": [],
   "source": [
    "epsilon = 0.1\n",
    "mu = 0.02\n",
    "gamma_trick = 3\n",
    "mutation_rate = 0.02\n",
    "mutation_periods = np.geomspace(10,1000,11)#1 / mutation_rate\n",
    "kmuts = np.round(np.geomspace(1,100,11)).astype(int)#0.315 * mutation_period"
   ]
  },
  {
   "cell_type": "code",
   "execution_count": null,
   "id": "97d31cad-4325-4b3e-a484-bf09de7b8168",
   "metadata": {},
   "outputs": [],
   "source": [
    "def mutationsPerHost(n, gamma_trick, epsilon, mu, mutation_period, kM):\n",
    "\tlambdaE = gamma_trick * epsilon\n",
    "\tlambdaI = gamma_trick * mu\n",
    "\tthetaM = 1 / kM * mutation_period\n",
    "\tEs = erlang.rvs(gamma_trick, scale=1/lambdaE, size=int(1e6))\n",
    "\tIs = erlang.rvs(gamma_trick, scale=1/lambdaI, size=int(1e6))\n",
    "\tMns = gamma.rvs(n*kM, scale=thetaM, size=int(1e6))\n",
    "\tDs = Mns - Is - Es\n",
    "\treturn (Ds >= 0).mean()"
   ]
  },
  {
   "cell_type": "code",
   "execution_count": null,
   "id": "0157bf82-521e-4add-be5b-bd0b26e47c33",
   "metadata": {},
   "outputs": [],
   "source": [
    "muts_per_host_mean = np.empty(mutation_periods.shape[0]*kmuts.shape[0])\n",
    "muts_per_host_std = np.empty(mutation_periods.shape[0]*kmuts.shape[0])\n",
    "i = 0\n",
    "for mutation_period in mutation_periods:\n",
    "\tfor k in kmuts:\n",
    "\t\tvalues = [0]\n",
    "\t\tn = 1\n",
    "\t\twhile values[-1] < 0.9999:\n",
    "\t\t\tvalues.append(mutationsPerHost(n, gamma_trick, epsilon, mu, mutation_period, k))\n",
    "\t\t\tn += 1\n",
    "\t\tvalues = np.diff(values)\n",
    "\t\tmean = (np.arange(values.shape[0]-0.5) * values).sum() / values.sum()\n",
    "\t\tstd = np.sqrt((np.arange(values.shape[0]-0.5)**2 * values).sum() / values.sum() - mean)\n",
    "\t\tmuts_per_host_mean[i] = mean\n",
    "\t\tmuts_per_host_std[i] = std\n",
    "\t\ti += 1\n",
    "\t\tprint(f\"{i*100//(len(mutation_periods)*len(kmuts))}%, with values up to n={n}\\t\\t\", flush=True, end=\"\\r\")"
   ]
  },
  {
   "cell_type": "code",
   "execution_count": null,
   "id": "3aea7b78-4128-42ba-8439-64d1e7d0c231",
   "metadata": {},
   "outputs": [],
   "source": [
    "index = pd.MultiIndex.from_product([1/mutation_periods,kmuts], names=[\"mr\",\"k\"])\n",
    "df = pd.DataFrame(data={\"mean\":muts_per_host_mean, \"std\":muts_per_host_std}, index=index)\n",
    "mean_df = df.reset_index(level=1).pivot(columns=\"k\", values=\"mean\")\n",
    "std_df = df.reset_index(level=1).pivot(columns=\"k\", values=\"std\")"
   ]
  },
  {
   "cell_type": "code",
   "execution_count": null,
   "id": "8b5abc64-cb8e-4a4a-b151-430e9ca7f4aa",
   "metadata": {},
   "outputs": [],
   "source": [
    "fig, axs = plt.subplots(1,2,figsize=(15,5))\n",
    "sb.heatmap(mean_df, annot=True, fmt=\".3f\", yticklabels=[f\"{m:.{2}E}\" for m in 1/mutation_periods[::-1]], norm=matplotlib.colors.LogNorm(), ax=axs[0])\n",
    "sb.heatmap(std_df, annot=True, fmt=\".3f\", yticklabels=[f\"{m:.{2}E}\" for m in 1/mutation_periods[::-1]], norm=matplotlib.colors.LogNorm(), ax=axs[1])\n",
    "axs[0].set_title(\"Mean\")\n",
    "axs[1].set_title(\"Stddev\")\n",
    "for ax in axs:\n",
    "\tax.invert_yaxis()\n",
    "\tax.invert_xaxis()\n",
    "\tax.set_ylabel(\"Average mutation rate\")\n",
    "fig.suptitle(\"Mutations per host\")\n",
    "fig.tight_layout()\n",
    "fig.savefig(\"analysis/mutations_per_host.png\")"
   ]
  },
  {
   "cell_type": "code",
   "execution_count": null,
   "id": "c2fabf87-771b-42dd-ac2a-c58acd933098",
   "metadata": {},
   "outputs": [],
   "source": [
    "file = h5py.File(\"data/betaMrmeanMrk.h5\")\n",
    "\n",
    "params = pd.concat([datman.collectAttributeFromGroup(param, file, np.unique) for param in [\"betas\",\"mutation_rate\",\"mutation_k\"]], axis=1)\n",
    "\n",
    "data = {}\n",
    "for i,(name,group) in enumerate(file.items()):\n",
    "\n",
    "\tprint(f\"{i*100//len(params.index)}% - loading infections\", end=\"\\r\", flush=True)\n",
    "\thaplo_infections = group[\"seed-00000/infections\"].fields([\"mut\",\"loc\"])[:]\n",
    "\tprint(f\"{i*100//len(params.index)}% - computing infections\", end=\"\\r\", flush=True)\n",
    "\tinfectious_haplo = pd.DataFrame.from_records(haplo_infections).groupby(\"mut\").count()\n",
    "\tmostinfectious_haplo = (infectious_haplo.max() / infectious_haplo.sum())[\"loc\"]\n",
    "\n",
    "\tprint(f\"{i*100//len(params.index)}% - loading mutation tree\", end=\"\\r\", flush=True)\n",
    "\tmut_tree = group[\"seed-00000/mutationtree\"][:]\n",
    "\tprint(f\"{i*100//len(params.index)}% - computing depths\\t\\t\", end=\"\\r\", flush=True)\n",
    "\tdepths = computeDepths(mut_tree)\n",
    "\tavg_depth = depths[\"depth\"].mean()\n",
    "\tprint(f\"{i*100//len(params.index)}% - computing children\\t\", end=\"\\r\", flush=True)\n",
    "\tchildren = computeChildren(mut_tree)\n",
    "\tbest_parent = children[\"children\"].max() / children[\"children\"].sum()\n",
    "\n",
    "\tprint(f\"{i*100//len(params.index)}% - filtering\", end=\"\\r\", flush=True)\n",
    "\tunique_haplos = np.unique(haplo_infections[\"mut\"])\n",
    "\tfiltered_depths = pd.DataFrame.from_records(depths, index=\"id\").loc[unique_haplos]\n",
    "\tavg_depth_fil = filtered_depths.mean()[\"depth\"]\n",
    "\tfiltered_children = pd.DataFrame.from_records(children, index=\"id\").loc[unique_haplos]\n",
    "\tbest_parent_fil = (filtered_children.max() / filtered_children.sum())[\"children\"]\n",
    "\n",
    "\tprint(f\"{i*100//len(params.index)}%\\t\\t\\t\\t\\t\\t\\t\\t\", end=\"\\r\", flush=True)\n",
    "\tdata[name] = [mostinfectious_haplo, avg_depth, best_parent, avg_depth_fil, best_parent_fil]\n",
    "\n",
    "data = pd.DataFrame.from_dict(data, orient=\"index\", columns=[\"mostinfhaplo\",\"avgdepth\",\"bestparent\",\"FILavgdepth\",\"FILbestparent\"])\n",
    "\n",
    "file.close()"
   ]
  },
  {
   "cell_type": "code",
   "execution_count": null,
   "id": "a518c4b7-86ad-473e-97e1-34be202cd99a",
   "metadata": {},
   "outputs": [],
   "source": [
    "df = pd.concat([params,data], axis=1)\n",
    "df.sort_index(inplace=True)\n",
    "df"
   ]
  },
  {
   "cell_type": "code",
   "execution_count": null,
   "id": "ef3d7e1d-5dc1-4bbc-83e4-5ecb77bb96ad",
   "metadata": {},
   "outputs": [],
   "source": [
    "betafixed = {beta:group.drop(columns=\"betas\") for beta,group in df.groupby(\"betas\")}"
   ]
  },
  {
   "cell_type": "markdown",
   "id": "9b9e78db-14eb-48de-b435-01fe60c77e6f",
   "metadata": {},
   "source": [
    "# With $R_0 = 1.1$"
   ]
  },
  {
   "cell_type": "code",
   "execution_count": null,
   "id": "a550e270-16ed-424a-bac0-49e59ef7924b",
   "metadata": {},
   "outputs": [],
   "source": [
    "labels = [\n",
    "\t\"Fraction of cases by the most infectious haplotypes\",\n",
    "\t\"Average depth in mutation tree\",\n",
    "\t\"Fraction of haplotypes generated by the most prolific one\"\n",
    "]\n",
    "mycolors = [\"Reds\",\"Greens\",\"Blues\"]\n",
    "tags = [\"mostinfhaplo\",\"avgdepth\",\"bestparent\"]\n",
    "nrows = len(labels)\n",
    "fig, axs = plt.subplots(nrows, 1, figsize=(8,nrows*4))\n",
    "for i in range(len(labels)):\n",
    "\tplotting = betafixed[0.022].pivot(index=\"mutation_rate\", columns=\"mutation_k\", values=tags[i])\n",
    "\tif i == 1:\n",
    "\t\tsb.heatmap(plotting, annot=True, fmt=\".2e\", cmap=mycolors[i], norm=matplotlib.colors.LogNorm(), ax=axs[i])\n",
    "\telse:\n",
    "\t\tsb.heatmap(plotting, annot=True, fmt=\".2e\", cmap=mycolors[i], ax=axs[i])\n",
    "\taxs[i].set_title(labels[i])\n",
    "\taxs[i].invert_xaxis()\n",
    "\taxs[i].set_xlabel(\"k\")\n",
    "\taxs[i].invert_yaxis()\n",
    "\taxs[i].set_ylabel(\"Avg mutation rate\")\n",
    "fig.suptitle(r\"$R_0 = 1.1$\", fontsize=20)\n",
    "fig.tight_layout()\n",
    "fig.savefig(\"analysis/R0_1.1.png\")"
   ]
  },
  {
   "cell_type": "code",
   "execution_count": null,
   "id": "505c1987-6ec8-4370-9f28-d3b227700393",
   "metadata": {},
   "outputs": [],
   "source": [
    "labels = [\n",
    "\t\"Only infectious - Average depth in mutation tree\",\n",
    "\t\"Only infectious - Fraction of haplotypes generated by the most prolific one\"\n",
    "]\n",
    "mycolors = [\"Greens\",\"Blues\"]\n",
    "tags = [\"FILavgdepth\",\"FILbestparent\"]\n",
    "nrows = len(labels)\n",
    "fig, axs = plt.subplots(nrows, 1, figsize=(8,nrows*4))\n",
    "for i in range(len(labels)):\n",
    "\tplotting = betafixed[0.022].pivot(index=\"mutation_rate\", columns=\"mutation_k\", values=tags[i])\n",
    "\tif i == 0:\n",
    "\t\tsb.heatmap(plotting, annot=True, fmt=\".2e\", cmap=mycolors[i], norm=matplotlib.colors.LogNorm(), ax=axs[i])\n",
    "\telse:\n",
    "\t\tsb.heatmap(plotting, annot=True, fmt=\".2e\", cmap=mycolors[i], ax=axs[i])\n",
    "\taxs[i].set_title(labels[i])\n",
    "\taxs[i].invert_xaxis()\n",
    "\taxs[i].set_xlabel(\"k\")\n",
    "\taxs[i].invert_yaxis()\n",
    "\taxs[i].set_ylabel(\"Avg mutation rate\")\n",
    "fig.suptitle(r\"$R_0 = 1.1$\", fontsize=20)\n",
    "fig.tight_layout()\n",
    "fig.savefig(\"analysis/R0_1.1-reduced.png\")"
   ]
  },
  {
   "cell_type": "markdown",
   "id": "7f4ad030-f0f6-4f37-a49f-2106379d686a",
   "metadata": {},
   "source": [
    "# With $R_0 = 1.5$"
   ]
  },
  {
   "cell_type": "code",
   "execution_count": null,
   "id": "b05f3bcf-96bc-422a-aeba-d5d2db74804c",
   "metadata": {},
   "outputs": [],
   "source": [
    "labels = [\n",
    "\t\"Fraction of cases by the most infectious haplotypes\",\n",
    "\t\"Average depth in mutation tree\",\n",
    "\t\"Fraction of haplotypes generated by the most prolific one\"\n",
    "]\n",
    "mycolors = [\"Reds\",\"Greens\",\"Blues\"]\n",
    "tags = [\"mostinfhaplo\",\"avgdepth\",\"bestparent\"]\n",
    "nrows = len(labels)\n",
    "fig, axs = plt.subplots(nrows, 1, figsize=(8,nrows*4))\n",
    "for i in range(len(labels)):\n",
    "\tplotting = betafixed[0.03].pivot(index=\"mutation_rate\", columns=\"mutation_k\", values=tags[i])\n",
    "\tif i == 1:\n",
    "\t\tsb.heatmap(plotting, annot=True, fmt=\".2e\", cmap=mycolors[i], norm=matplotlib.colors.LogNorm(), ax=axs[i])\n",
    "\telse:\n",
    "\t\tsb.heatmap(plotting, annot=True, fmt=\".2e\", cmap=mycolors[i], ax=axs[i])\n",
    "\taxs[i].set_title(labels[i])\n",
    "\taxs[i].invert_xaxis()\n",
    "\taxs[i].set_xlabel(\"k\")\n",
    "\taxs[i].invert_yaxis()\n",
    "\taxs[i].set_ylabel(\"Avg mutation rate\")\n",
    "fig.suptitle(r\"$R_0 = 1.5$\", fontsize=20)\n",
    "fig.tight_layout()\n",
    "fig.savefig(\"analysis/R0_1.5.png\")"
   ]
  },
  {
   "cell_type": "code",
   "execution_count": null,
   "id": "ef68ab8f-a7aa-4ae5-afe5-337b047e9aa6",
   "metadata": {},
   "outputs": [],
   "source": [
    "labels = [\n",
    "\t\"Only infectious - Average depth in mutation tree\",\n",
    "\t\"Only infectious - Fraction of haplotypes generated by the most prolific one\"\n",
    "]\n",
    "mycolors = [\"Greens\",\"Blues\"]\n",
    "tags = [\"FILavgdepth\",\"FILbestparent\"]\n",
    "nrows = len(labels)\n",
    "fig, axs = plt.subplots(nrows, 1, figsize=(8,nrows*4))\n",
    "for i in range(len(labels)):\n",
    "\tplotting = betafixed[0.03].pivot(index=\"mutation_rate\", columns=\"mutation_k\", values=tags[i])\n",
    "\tif i == 0:\n",
    "\t\tsb.heatmap(plotting, annot=True, fmt=\".2e\", cmap=mycolors[i], norm=matplotlib.colors.LogNorm(), ax=axs[i])\n",
    "\telse:\n",
    "\t\tsb.heatmap(plotting, annot=True, fmt=\".2e\", cmap=mycolors[i], ax=axs[i])\n",
    "\taxs[i].set_title(labels[i])\n",
    "\taxs[i].invert_xaxis()\n",
    "\taxs[i].set_xlabel(\"k\")\n",
    "\taxs[i].invert_yaxis()\n",
    "\taxs[i].set_ylabel(\"Avg mutation rate\")\n",
    "fig.suptitle(r\"$R_0 = 1.5$\", fontsize=20)\n",
    "fig.tight_layout()\n",
    "fig.savefig(\"analysis/R0_1.5-reduced.png\")"
   ]
  },
  {
   "cell_type": "markdown",
   "id": "5d4a00a3-bce5-4a5d-9cc1-884f394b82c7",
   "metadata": {},
   "source": [
    "# With $R_0 = 2.5$"
   ]
  },
  {
   "cell_type": "code",
   "execution_count": null,
   "id": "b0a4f372-a176-4ce5-b979-417b0bdcf25d",
   "metadata": {},
   "outputs": [],
   "source": [
    "labels = [\n",
    "\t\"Fraction of cases by the most infectious haplotypes\",\n",
    "\t\"Average depth in mutation tree\",\n",
    "\t\"Fraction of haplotypes generated by the most prolific one\"\n",
    "]\n",
    "mycolors = [\"Reds\",\"Greens\",\"Blues\"]\n",
    "tags = [\"mostinfhaplo\",\"avgdepth\",\"bestparent\"]\n",
    "nrows = len(labels)\n",
    "fig, axs = plt.subplots(nrows, 1, figsize=(8,nrows*4))\n",
    "for i in range(len(labels)):\n",
    "\tplotting = betafixed[0.05].pivot(index=\"mutation_rate\", columns=\"mutation_k\", values=tags[i])\n",
    "\tif i == 1:\n",
    "\t\tsb.heatmap(plotting, annot=True, fmt=\".2e\", cmap=mycolors[i], norm=matplotlib.colors.LogNorm(), ax=axs[i])\n",
    "\telse:\n",
    "\t\tsb.heatmap(plotting, annot=True, fmt=\".2e\", cmap=mycolors[i], ax=axs[i])\n",
    "\taxs[i].set_title(labels[i])\n",
    "\taxs[i].invert_xaxis()\n",
    "\taxs[i].set_xlabel(\"k\")\n",
    "\taxs[i].invert_yaxis()\n",
    "\taxs[i].set_ylabel(\"Avg mutation rate\")\n",
    "fig.suptitle(r\"$R_0 = 2.5$\", fontsize=20)\n",
    "fig.tight_layout()\n",
    "fig.savefig(\"analysis/R0_2.5.png\")"
   ]
  },
  {
   "cell_type": "code",
   "execution_count": null,
   "id": "a0144511-4186-42ab-9f84-391a4845d3f6",
   "metadata": {},
   "outputs": [],
   "source": [
    "labels = [\n",
    "\t\"Only infectious - Average depth in mutation tree\",\n",
    "\t\"Only infectious - Fraction of haplotypes generated by the most prolific one\"\n",
    "]\n",
    "mycolors = [\"Greens\",\"Blues\"]\n",
    "tags = [\"FILavgdepth\",\"FILbestparent\"]\n",
    "nrows = len(labels)\n",
    "fig, axs = plt.subplots(nrows, 1, figsize=(8,nrows*4))\n",
    "for i in range(len(labels)):\n",
    "\tplotting = betafixed[0.05].pivot(index=\"mutation_rate\", columns=\"mutation_k\", values=tags[i])\n",
    "\tif i == 0:\n",
    "\t\tsb.heatmap(plotting, annot=True, fmt=\".2e\", cmap=mycolors[i], norm=matplotlib.colors.LogNorm(), ax=axs[i])\n",
    "\telse:\n",
    "\t\tsb.heatmap(plotting, annot=True, fmt=\".2e\", cmap=mycolors[i], ax=axs[i])\n",
    "\taxs[i].set_title(labels[i])\n",
    "\taxs[i].invert_xaxis()\n",
    "\taxs[i].set_xlabel(\"k\")\n",
    "\taxs[i].invert_yaxis()\n",
    "\taxs[i].set_ylabel(\"Avg mutation rate\")\n",
    "fig.suptitle(r\"$R_0 = 2.5$\", fontsize=20)\n",
    "fig.tight_layout()\n",
    "fig.savefig(\"analysis/R0_2.5-reduced.png\")"
   ]
  },
  {
   "cell_type": "markdown",
   "id": "2b1b208f-1ea3-47fe-ad99-c04e7aaef17f",
   "metadata": {},
   "source": [
    "# With $R_0 = 3.5$"
   ]
  },
  {
   "cell_type": "code",
   "execution_count": null,
   "id": "9c8ae4f8-e39a-4421-b26c-9251ee893bdc",
   "metadata": {},
   "outputs": [],
   "source": [
    "labels = [\n",
    "\t\"Fraction of cases by the most infectious haplotypes\",\n",
    "\t\"Average depth in mutation tree\",\n",
    "\t\"Fraction of haplotypes generated by the most prolific one\"\n",
    "]\n",
    "mycolors = [\"Reds\",\"Greens\",\"Blues\"]\n",
    "tags = [\"mostinfhaplo\",\"avgdepth\",\"bestparent\"]\n",
    "nrows = len(labels)\n",
    "fig, axs = plt.subplots(nrows, 1, figsize=(8,nrows*4))\n",
    "for i in range(len(labels)):\n",
    "\tplotting = betafixed[0.07].pivot(index=\"mutation_rate\", columns=\"mutation_k\", values=tags[i])\n",
    "\tif i == 1:\n",
    "\t\tsb.heatmap(plotting, annot=True, fmt=\".2e\", cmap=mycolors[i], norm=matplotlib.colors.LogNorm(), ax=axs[i])\n",
    "\telse:\n",
    "\t\tsb.heatmap(plotting, annot=True, fmt=\".2e\", cmap=mycolors[i], ax=axs[i])\n",
    "\taxs[i].set_title(labels[i])\n",
    "\taxs[i].invert_xaxis()\n",
    "\taxs[i].set_xlabel(\"k\")\n",
    "\taxs[i].invert_yaxis()\n",
    "\taxs[i].set_ylabel(\"Avg mutation rate\")\n",
    "fig.suptitle(r\"$R_0 = 3.5$\", fontsize=20)\n",
    "fig.tight_layout()\n",
    "fig.savefig(\"analysis/R0_3.5.png\")"
   ]
  },
  {
   "cell_type": "code",
   "execution_count": null,
   "id": "e820fa79-db18-4425-b71d-880e99568dbe",
   "metadata": {},
   "outputs": [],
   "source": [
    "labels = [\n",
    "\t\"Only infectious - Average depth in mutation tree\",\n",
    "\t\"Only infectious - Fraction of haplotypes generated by the most prolific one\"\n",
    "]\n",
    "mycolors = [\"Greens\",\"Blues\"]\n",
    "tags = [\"FILavgdepth\",\"FILbestparent\"]\n",
    "nrows = len(labels)\n",
    "fig, axs = plt.subplots(nrows, 1, figsize=(8,nrows*4))\n",
    "for i in range(len(labels)):\n",
    "\tplotting = betafixed[0.07].pivot(index=\"mutation_rate\", columns=\"mutation_k\", values=tags[i])\n",
    "\tif i == 0:\n",
    "\t\tsb.heatmap(plotting, annot=True, fmt=\".2e\", cmap=mycolors[i], norm=matplotlib.colors.LogNorm(), ax=axs[i])\n",
    "\telse:\n",
    "\t\tsb.heatmap(plotting, annot=True, fmt=\".2e\", cmap=mycolors[i], ax=axs[i])\n",
    "\taxs[i].set_title(labels[i])\n",
    "\taxs[i].invert_xaxis()\n",
    "\taxs[i].set_xlabel(\"k\")\n",
    "\taxs[i].invert_yaxis()\n",
    "\taxs[i].set_ylabel(\"Avg mutation rate\")\n",
    "fig.suptitle(r\"$R_0 = 3.5$\", fontsize=20)\n",
    "fig.tight_layout()\n",
    "fig.savefig(\"analysis/R0_3.5-reduced.png\")"
   ]
  },
  {
   "cell_type": "code",
   "execution_count": null,
   "id": "8c4950d7-3f62-453f-b001-b6b8c07df2a5",
   "metadata": {},
   "outputs": [],
   "source": []
  }
 ],
 "metadata": {
  "kernelspec": {
   "display_name": "Python 3 (ipykernel)",
   "language": "python",
   "name": "python3"
  },
  "language_info": {
   "codemirror_mode": {
    "name": "ipython",
    "version": 3
   },
   "file_extension": ".py",
   "mimetype": "text/x-python",
   "name": "python",
   "nbconvert_exporter": "python",
   "pygments_lexer": "ipython3",
   "version": "3.10.12"
  }
 },
 "nbformat": 4,
 "nbformat_minor": 5
}
