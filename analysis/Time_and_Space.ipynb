{
 "cells": [
  {
   "cell_type": "code",
   "execution_count": null,
   "id": "2e81ae83-891d-48ae-9af8-8d0be388b55f",
   "metadata": {},
   "outputs": [],
   "source": [
    "import os\n",
    "os.chdir(\"..\")"
   ]
  },
  {
   "cell_type": "code",
   "execution_count": null,
   "id": "0cd87904-1067-4f84-ba00-846413fbb9db",
   "metadata": {},
   "outputs": [],
   "source": [
    "import h5py\n",
    "import pandas as pd\n",
    "import numpy as np\n",
    "import matplotlib.pyplot as plt\n",
    "import matplotlib as mpl\n",
    "import seaborn as sb\n",
    "from TravelAndMutate.datamanager import getHeteroAttributes"
   ]
  },
  {
   "cell_type": "code",
   "execution_count": null,
   "id": "536b143d-10ee-4a26-9f8e-7b52a90aa614",
   "metadata": {},
   "outputs": [],
   "source": [
    "filename = \"morefocused\"\n",
    "plotdir = f\"analysis/{filename}/time_and_space/\"\n",
    "if not os.path.isdir(plotdir):\n",
    "\tos.makedirs(plotdir)\n",
    "file = h5py.File(f\"analysis/{filename}.h5\")\n",
    "\n",
    "attrs = getHeteroAttributes(file)\n",
    "attrs"
   ]
  },
  {
   "cell_type": "code",
   "execution_count": null,
   "id": "f90c5635-bd98-498b-8559-4f1540342469",
   "metadata": {},
   "outputs": [],
   "source": [
    "attrs[\"R0\"] = attrs[\"betas\"] / 0.2\n",
    "attrs"
   ]
  },
  {
   "cell_type": "code",
   "execution_count": null,
   "id": "de563633-e4fa-431c-b0c3-7206ad5a44bb",
   "metadata": {},
   "outputs": [],
   "source": [
    "def plotTInvasion(data, ax):\n",
    "\tsubset = data.loc[data[\"event\"] == 0]\n",
    "\tsb.boxplot(data=subset, x=\"t\", y=\"patch_name\", ax=ax)\n",
    "\tax.set_xlabel(\"Time of first infection\")\n",
    "\treturn \n",
    "\t\n",
    "def plotTExtinction(data, ax):\n",
    "\tsubset = data.loc[data[\"event\"] == -1]\n",
    "\tsb.boxplot(data=subset, x=\"t\", y=\"patch_name\", ax=ax)\n",
    "\tax.set_xlabel(\"Time of last infection\")\n",
    "\treturn\n",
    "\t\n",
    "def plotNPeaks(data, ax):\n",
    "\tsubset = data.loc[data[\"event\"] > 0]\n",
    "\tsubset = subset.groupby([\"seed\",\"patch_name\"], observed=True).count()[\"t\"].reset_index()\n",
    "\tsb.boxplot(data=subset, x=\"t\", y=\"patch_name\", ax=ax)\n",
    "\tax.set_xlabel(\"N° peaks\")\n",
    "\treturn\n",
    "\t\n",
    "def plotTFirstPeak(data, ax):\n",
    "\tsubset = data.loc[data[\"event\"] == 1]\n",
    "\tsb.boxplot(data=subset, x=\"t\", y=\"patch_name\", ax=ax)\n",
    "\tax.set_xlabel(\"Time of first peak\")\n",
    "\treturn\n",
    "\t\n",
    "def plotTLastPeak(data, ax):\n",
    "\tsubset = data.loc[data[\"event\"] > 0]\n",
    "\tsubset = subset.sort_values(\"t\")\n",
    "\tsubset = subset.groupby([\"seed\",\"patch_name\"], observed=True).last()\n",
    "\tsb.boxplot(data=subset, x=\"t\", y=\"patch_name\", ax=ax)\n",
    "\tax.set_xlabel(\"Time of last peak\")\n",
    "\treturn\n",
    "\t\n",
    "def plotTAllPeaks(data, ax):\n",
    "\tsubset = data.loc[data[\"event\"] > 0]\n",
    "\tsb.boxplot(data=subset, x=\"t\", y=\"patch_name\", ax=ax)\n",
    "\tax.set_xlabel(\"Time of all peaks\")\n",
    "\treturn"
   ]
  },
  {
   "cell_type": "code",
   "execution_count": null,
   "id": "7cad71ce-8143-4e23-be83-69b3185c194e",
   "metadata": {},
   "outputs": [],
   "source": [
    "metrics = {\n",
    "\t\"t_first_infection\" : plotTInvasion,\n",
    "\t\"t_extinction\" : plotTExtinction,\n",
    "\t\"n_peaks\" : plotNPeaks,\n",
    "\t\"t_first_peak\" : plotTFirstPeak,\n",
    "\t\"t_last_peak\" : plotTLastPeak,\n",
    "\t\"t_all_peaks\" : plotTAllPeaks\n",
    "}\n",
    "labels = {\n",
    "\t\"fitness_p\" : r\"$P\\left(\\Delta\\varphi^+\\right)$\",\n",
    "\t\"fitness_delta+\" : r\"$\\Delta\\varphi^+$\",\n",
    "\t\"fitness_delta-\" : r\"$\\Delta\\varphi^-$\",\n",
    "\t\"mutation_rate\" : r\"mean($\\eta$)\",\n",
    "\t\"betas\" : r\"$\\beta$\",\n",
    "\t\"epsilons\" : r\"$\\varepsilon$\",\n",
    "\t\"mus\" : r\"$\\mu$\"\n",
    "}"
   ]
  },
  {
   "cell_type": "code",
   "execution_count": null,
   "id": "71d876fc-46a8-4fa7-9377-c159cc0fc236",
   "metadata": {},
   "outputs": [],
   "source": [
    "def plot(file, fixed_params, alongrows, alongcolumns):\n",
    "\tmask = np.ones_like(attrs.index, dtype=bool)\n",
    "\tfor key,val in fixed_params.items():\n",
    "\t\tmask = np.logical_and(mask, attrs[key] == val)\n",
    "\tmasked_attrs = attrs.loc[mask].copy().sort_values([alongcolumns,alongrows], ascending=[False,True])\n",
    "\tpatch_names = pd.read_csv(\"inputparams/patchIDs/italy.csv\", index_col=\"Provincia ID\")\n",
    "\tnrows = masked_attrs[alongcolumns].unique().shape[0]\n",
    "\tncols = masked_attrs[alongrows].unique().shape[0]\n",
    "\tfigs_and_axss = {metric : plt.subplots(nrows, ncols, figsize=(4*ncols,16*nrows), sharey=True) for metric in metrics.keys()}\n",
    "\tfor i,groupname in enumerate(masked_attrs.index):\n",
    "\t\tif \"geography\" in file[groupname]:\n",
    "\t\t\tdata = pd.DataFrame.from_records(file[f\"{groupname}/geography\"][:])\n",
    "\t\t\tdata[\"patch_name\"] = pd.Series(patch_names[\"Capoluogo\"].loc[data[\"loc_id\"]].values, dtype=\"category\")\n",
    "\t\t\tfor metric,plotfunc in metrics.items():\n",
    "\t\t\t\tplotfunc(data, figs_and_axss[metric][1][i//ncols,i%ncols])\n",
    "\tfor metric,(fig,axs) in figs_and_axss.items():\n",
    "\t\tif not os.path.isdir(plotdir+metric):\n",
    "\t\t\tos.makedirs(plotdir+metric)\n",
    "\t\tfor i in range(len(axs)):\n",
    "\t\t\tax = axs[i//ncols,i%ncols]\n",
    "\t\t\tlabel = [\n",
    "\t\t\t\tr\"$P\\left(\\Delta\\varphi^+\\right)$\"+f\" = {round(masked_attrs.iloc[i]['fitness_p'], 2)}\",\n",
    "\t\t\t\tr\"mean($\\eta$)\"+f\" = {masked_attrs.iloc[i]['mutation_rate']}\"\n",
    "\t\t\t]\n",
    "\t\t\tax.set_title(\"\\t\".join(label))\n",
    "\t\ttitle = \"\\n\".join([f\"{labels[key]} = {str(val)}\" for key,val in fixed_params.items()])\n",
    "\t\tfig.suptitle(title, y=1)\n",
    "\t\tfig.tight_layout()\n",
    "\t\tfilename = plotdir+metric + \"/\" + \"-\".join(masked_attrs.index) + \".png\"\n",
    "\t\tfig.savefig(filename)\n",
    "\t\tplt.close(fig)\n",
    "\treturn"
   ]
  },
  {
   "cell_type": "code",
   "execution_count": null,
   "id": "7ba979c2-5721-415c-85e5-9f3041a276f5",
   "metadata": {},
   "outputs": [],
   "source": [
    "for deltap in attrs[\"fitness_delta+\"].unique():\n",
    "\tfor deltam in attrs[\"fitness_delta-\"].unique():\n",
    "\t\tfor beta in attrs[\"betas\"].unique():\n",
    "\t\t\tfixed = {\"fitness_delta-\":deltam, \"fitness_delta+\":deltap, \"betas\":beta}\n",
    "\t\t\tplot(file, fixed, \"mutation_rate\", \"fitness_p\")"
   ]
  },
  {
   "cell_type": "code",
   "execution_count": null,
   "id": "fcc7e139-6c8e-41aa-9f03-f1c1145bdba8",
   "metadata": {},
   "outputs": [],
   "source": [
    "file.close()"
   ]
  },
  {
   "cell_type": "code",
   "execution_count": null,
   "id": "ed6b7c09-47ff-4d1d-9b34-657777202d1d",
   "metadata": {},
   "outputs": [],
   "source": []
  }
 ],
 "metadata": {
  "kernelspec": {
   "display_name": "Python 3 (ipykernel)",
   "language": "python",
   "name": "python3"
  },
  "language_info": {
   "codemirror_mode": {
    "name": "ipython",
    "version": 3
   },
   "file_extension": ".py",
   "mimetype": "text/x-python",
   "name": "python",
   "nbconvert_exporter": "python",
   "pygments_lexer": "ipython3",
   "version": "3.11.8"
  }
 },
 "nbformat": 4,
 "nbformat_minor": 5
}
