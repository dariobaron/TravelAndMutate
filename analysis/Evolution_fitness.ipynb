{
 "cells": [
  {
   "cell_type": "code",
   "execution_count": null,
   "id": "2e81ae83-891d-48ae-9af8-8d0be388b55f",
   "metadata": {},
   "outputs": [],
   "source": [
    "import os\n",
    "os.chdir(\"..\")"
   ]
  },
  {
   "cell_type": "code",
   "execution_count": null,
   "id": "0cd87904-1067-4f84-ba00-846413fbb9db",
   "metadata": {},
   "outputs": [],
   "source": [
    "import h5py\n",
    "import pandas as pd\n",
    "import numpy as np\n",
    "import matplotlib.pyplot as plt\n",
    "import matplotlib as mpl\n",
    "import seaborn as sb\n",
    "from TravelAndMutate.datamanager import getHeteroAttributes"
   ]
  },
  {
   "cell_type": "code",
   "execution_count": null,
   "id": "536b143d-10ee-4a26-9f8e-7b52a90aa614",
   "metadata": {},
   "outputs": [],
   "source": [
    "filename = \"alphaUK\"\n",
    "plotdir = f\"analysis/{filename}/fitness_evolution/\"\n",
    "if not os.path.isdir(plotdir):\n",
    "\tos.makedirs(plotdir)\n",
    "file = h5py.File(f\"analysis/{filename}.h5\")\n",
    "\n",
    "attrs = getHeteroAttributes(file)\n",
    "attrs"
   ]
  },
  {
   "cell_type": "code",
   "execution_count": null,
   "id": "f90c5635-bd98-498b-8559-4f1540342469",
   "metadata": {},
   "outputs": [],
   "source": [
    "attrs[\"R0\"] = attrs[\"betas\"] / 0.2\n",
    "attrs"
   ]
  },
  {
   "cell_type": "code",
   "execution_count": null,
   "id": "7cad71ce-8143-4e23-be83-69b3185c194e",
   "metadata": {},
   "outputs": [],
   "source": [
    "labels = {\n",
    "\t\"fitness_p\" : r\"$P\\left(\\Delta\\varphi^+\\right)$\",\n",
    "\t\"fitness_delta+\" : r\"$\\Delta\\varphi^+$\",\n",
    "\t\"fitness_delta-\" : r\"$\\Delta\\varphi^-$\",\n",
    "\t\"mutation_rate\" : r\"mean($\\eta$)\",\n",
    "\t\"betas\" : r\"$\\beta$\",\n",
    "\t\"epsilons\" : r\"$\\varepsilon$\",\n",
    "\t\"mus\" : r\"$\\mu$\"\n",
    "}"
   ]
  },
  {
   "cell_type": "code",
   "execution_count": null,
   "id": "35586c46-9f45-48b8-8bee-7c723ca7803c",
   "metadata": {},
   "outputs": [],
   "source": [
    "def plot(file, fixed_params, alongrows, alongcolumns):\n",
    "\tmask = np.ones_like(attrs.index, dtype=bool)\n",
    "\tfor key,val in fixed_params.items():\n",
    "\t\tmask = np.logical_and(mask, attrs[key] == val)\n",
    "\tdata = attrs.loc[mask].copy().sort_values([alongcolumns,alongrows], ascending=[False,True])\n",
    "\tgroupnames = data.index\n",
    "\tnrows = data[alongcolumns].unique().shape[0]\n",
    "\tncols = data[alongrows].unique().shape[0]\n",
    "\tfig, axs = plt.subplots(nrows, ncols, figsize=(4*ncols,3*nrows))\n",
    "\taxs = axs.flatten()\n",
    "\tfor i,name in enumerate(groupnames):\n",
    "\t\tif \"fitness_evolution\" in file[name]:\n",
    "\t\t\tto_plot = pd.DataFrame.from_records(file[f\"{name}/fitness_evolution\"][:])\n",
    "\t\t\tsb.histplot(data=to_plot, x=\"t\", y=\"phi\", bins=50, cmap=\"Blues\", ax=axs[i])\n",
    "\t\tlabel = [\n",
    "\t\t\tr\"$P\\left(\\Delta\\varphi^+\\right)$\"+f\" = {round(attrs.loc[name]['fitness_p'], 2)}\",\n",
    "\t\t\tr\"mean($\\eta$)\"+f\" = {attrs.loc[name]['mutation_rate']}\"\n",
    "\t\t]\n",
    "\t\taxs[i].text(0.05, 0.2, \"\\n\".join(label), transform=axs[i].transAxes)\n",
    "\t\taxs[i].set_ylabel(\"Fitness\")\n",
    "\t\taxs[i].set_xlabel(\"t\")\n",
    "\t\taxs[i].set_xlim(left=0)\n",
    "\ttitle = \"\\n\".join([f\"{labels[key]} = {str(val)}\" for key,val in fixed_params.items()])\n",
    "\tfig.suptitle(title, y=1)\n",
    "\tfig.tight_layout()\n",
    "\tfilename = plotdir + \"-\".join(sorted(data.index.tolist())) + \".png\"\n",
    "\treturn filename, fig"
   ]
  },
  {
   "cell_type": "code",
   "execution_count": null,
   "id": "7ba979c2-5721-415c-85e5-9f3041a276f5",
   "metadata": {},
   "outputs": [],
   "source": [
    "for deltap in attrs[\"fitness_delta+\"].unique():\n",
    "\tfor deltam in attrs[\"fitness_delta-\"].unique():\n",
    "\t\tfor beta in attrs[\"betas\"].unique():\n",
    "\t\t\tfixed = {\"fitness_delta-\":deltam, \"fitness_delta+\":deltap, \"betas\":beta}\n",
    "\t\t\tfilename, fig = plot(file, fixed, \"mutation_rate\", \"fitness_p\")\n",
    "\t\t\tfig.savefig(filename)\n",
    "\t\t\tplt.close(fig)"
   ]
  },
  {
   "cell_type": "code",
   "execution_count": null,
   "id": "9b1d0131-cb90-4b41-a381-4cb38b4d3d40",
   "metadata": {},
   "outputs": [],
   "source": [
    "file.close()"
   ]
  },
  {
   "cell_type": "code",
   "execution_count": null,
   "id": "a677dd2d-d041-47f2-a4f3-c93a15f4ccf2",
   "metadata": {},
   "outputs": [],
   "source": []
  }
 ],
 "metadata": {
  "kernelspec": {
   "display_name": "Python 3 (ipykernel)",
   "language": "python",
   "name": "python3"
  },
  "language_info": {
   "codemirror_mode": {
    "name": "ipython",
    "version": 3
   },
   "file_extension": ".py",
   "mimetype": "text/x-python",
   "name": "python",
   "nbconvert_exporter": "python",
   "pygments_lexer": "ipython3",
   "version": "3.11.8"
  }
 },
 "nbformat": 4,
 "nbformat_minor": 5
}
