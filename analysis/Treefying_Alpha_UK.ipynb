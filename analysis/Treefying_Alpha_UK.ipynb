{
 "cells": [
  {
   "cell_type": "code",
   "execution_count": null,
   "id": "6ca0be5f-92f8-4615-93f3-eeb7b2b451b2",
   "metadata": {},
   "outputs": [],
   "source": [
    "import os\n",
    "os.chdir(\"..\")"
   ]
  },
  {
   "cell_type": "code",
   "execution_count": null,
   "id": "6308e81a-51a2-4742-95b9-136b3b1a3ca4",
   "metadata": {},
   "outputs": [],
   "source": [
    "import pandas as pd\n",
    "import numpy as np"
   ]
  },
  {
   "cell_type": "code",
   "execution_count": null,
   "id": "e7cfc430-da39-40e3-a5e6-cd7337c5d5d2",
   "metadata": {},
   "outputs": [],
   "source": [
    "from TravelAndMutate import trees"
   ]
  },
  {
   "cell_type": "code",
   "execution_count": null,
   "id": "e88fa9eb-4379-4a29-88ae-fe43cebe6af9",
   "metadata": {},
   "outputs": [],
   "source": [
    "def rewriteMutations(series):\n",
    "    return [el.replace(\" \",\"\").replace(\"'\",\"\").replace(\"[\",\"\").replace(\"]\",\"\") for el in series]\n",
    "\t\n",
    "def getId(series):\n",
    "    mapping = {}\n",
    "    to_return = []\n",
    "    for el in series:\n",
    "        string = el.replace(\"[\",\"\").replace(\"]\",\"\").replace(\"'\",\"\").replace(\", \",\"\")\n",
    "        if string in mapping.keys():\n",
    "            to_return.append(mapping[string])\n",
    "        else:\n",
    "            to_return.append(len(mapping))\n",
    "            mapping[string] = len(mapping)\n",
    "    return to_return"
   ]
  },
  {
   "cell_type": "code",
   "execution_count": null,
   "id": "964ee836-d1ca-406d-954e-4f197d1ba265",
   "metadata": {},
   "outputs": [],
   "source": [
    "sequencings = pd.read_csv(\"realdata/mutations_df_indel_event_flagged_alpha_ref.tsv\", delimiter=\"\\t\")\n",
    "sequencings.set_index(\"Unnamed: 0\", inplace=True)\n",
    "numerosity = pd.read_csv(\"realdata/Alphas_4_VirNA_Alpha_ref_node_table.tsv\", delimiter=\"\\t\", usecols=[\"name\",\"Nidentical\"])\n",
    "numerosity[\"numerosity\"] = 1 + numerosity[\"Nidentical\"]\n",
    "numerosity.set_index(\"name\", inplace=True)\n",
    "sequencings[\"numerosity\"] = numerosity[\"numerosity\"]\n",
    "sequencings[\"collection_date\"] = pd.to_datetime(sequencings[\"collection_date\"])\n",
    "sequencings[\"days_from_beginning\"] = (sequencings[\"collection_date\"] - sequencings[\"collection_date\"].min()).dt.days\n",
    "sequencings[\"mutations\"] = rewriteMutations(sequencings[\"mutations\"])\n",
    "sequencings[\"id\"] = getId(sequencings[\"mutations\"])\n",
    "sequencings"
   ]
  },
  {
   "cell_type": "code",
   "execution_count": null,
   "id": "490305a4-d479-41d1-9af0-cbda93e5be03",
   "metadata": {},
   "outputs": [],
   "source": [
    "edgelist = pd.read_excel(\"realdata/Alphas_4_VirNA_Alpha_ref_edge.xlsx\", usecols=[\"sourceID\",\"targetID\"])\n",
    "edgelist"
   ]
  },
  {
   "cell_type": "code",
   "execution_count": null,
   "id": "30db126f-68e5-4894-8e44-ad34c2a9d534",
   "metadata": {},
   "outputs": [],
   "source": [
    "sources = edgelist[\"sourceID\"].unique()\n",
    "targets = edgelist[\"targetID\"].unique()\n",
    "sources.shape, targets.shape"
   ]
  },
  {
   "cell_type": "code",
   "execution_count": null,
   "id": "392f48c6-b679-4c4a-bf7a-baf30be47c76",
   "metadata": {},
   "outputs": [],
   "source": [
    "sources[~np.isin(sources, targets)]"
   ]
  },
  {
   "cell_type": "code",
   "execution_count": null,
   "id": "f38d3893-3913-4802-b2c9-1956ad0f4026",
   "metadata": {},
   "outputs": [],
   "source": [
    "np.any(edgelist[\"sourceID\"] == edgelist[\"targetID\"])"
   ]
  },
  {
   "cell_type": "code",
   "execution_count": null,
   "id": "9066f4eb-4250-4226-876f-0ba0fe8034bc",
   "metadata": {},
   "outputs": [],
   "source": [
    "edgelist.loc[edgelist[\"sourceID\"]==97]"
   ]
  },
  {
   "cell_type": "code",
   "execution_count": null,
   "id": "000b0637-236c-480c-8649-b780bf518f8c",
   "metadata": {},
   "outputs": [],
   "source": [
    "edgelist.loc[(edgelist[\"sourceID\"]==97)&(edgelist[\"targetID\"]==100)]"
   ]
  },
  {
   "cell_type": "code",
   "execution_count": null,
   "id": "1ca08911-c639-42ea-a036-1968029b6bf5",
   "metadata": {},
   "outputs": [],
   "source": [
    "edgelist.loc[(edgelist[\"sourceID\"]==100)&(edgelist[\"targetID\"]==1095)]"
   ]
  },
  {
   "cell_type": "code",
   "execution_count": null,
   "id": "b49d6a10-63dc-4f3f-8bdc-48cf953c7709",
   "metadata": {},
   "outputs": [],
   "source": [
    "edgelist.loc[edgelist[\"sourceID\"]==1095]"
   ]
  },
  {
   "cell_type": "code",
   "execution_count": null,
   "id": "13c95143-0379-49ad-847f-6c38bb714a31",
   "metadata": {},
   "outputs": [],
   "source": [
    "edgelist.loc[edgelist[\"targetID\"]==149]"
   ]
  },
  {
   "cell_type": "code",
   "execution_count": null,
   "id": "f01d7f94-a314-4fb0-a286-d7d5dcf0e544",
   "metadata": {},
   "outputs": [],
   "source": [
    "edgelist.loc[edgelist[\"sourceID\"]==1]"
   ]
  },
  {
   "cell_type": "code",
   "execution_count": null,
   "id": "5440b161-3ee3-438f-9b77-cf0dbdc6c8a7",
   "metadata": {},
   "outputs": [],
   "source": [
    "haplos = sequencings.sort_values(\"flags_day\").groupby(\"id\").first()[[\"mutations\",\"flags_day\",\"number_of_mutations\",\"numerosity\"]]\n",
    "haplos"
   ]
  },
  {
   "cell_type": "code",
   "execution_count": null,
   "id": "5c717e02-1ef2-4681-91d1-c590eb113968",
   "metadata": {},
   "outputs": [],
   "source": [
    "haplos.loc[[1,149,1095,100,97,98,397,721,718]]"
   ]
  },
  {
   "cell_type": "code",
   "execution_count": null,
   "id": "c0fdbe56-aea7-48ee-88c7-5d1d6817b63d",
   "metadata": {},
   "outputs": [],
   "source": [
    "haplos.loc[[95,94,740,722]][\"mutations\"].tolist()"
   ]
  },
  {
   "cell_type": "code",
   "execution_count": null,
   "id": "2cef5ae8-a182-41b5-b115-87f577247f41",
   "metadata": {},
   "outputs": [],
   "source": [
    "for id in [92,696,1378,702,701,752]:\n",
    "\tprint(id, haplos[\"mutations\"].loc[id], sep=\"\\t\")"
   ]
  },
  {
   "cell_type": "code",
   "execution_count": null,
   "id": "8aa0236c-962e-4dc7-99ed-daf0ac20471f",
   "metadata": {},
   "outputs": [],
   "source": [
    "False < True"
   ]
  },
  {
   "cell_type": "code",
   "execution_count": null,
   "id": "bcae50e6-c282-4a31-b42c-ded6884e0bf4",
   "metadata": {},
   "outputs": [],
   "source": [
    "transformed = edgelist.copy()\n",
    "transformed[\"length\"] = haplos.loc[transformed[\"targetID\"],\"number_of_mutations\"].to_numpy() - haplos.loc[transformed[\"sourceID\"],\"number_of_mutations\"].to_numpy()\n",
    "transformed.update(\n",
    "\tedgelist.loc[np.logical_and(\n",
    "\t\tnp.isin(edgelist[\"sourceID\"],[1,718,722,752]),\n",
    "\t\tnp.isin(edgelist[\"targetID\"],[149,721,740,701])\n",
    "\t)].rename(columns={\"sourceID\":\"targetID\",\"targetID\":\"sourceID\"})\n",
    ")\n",
    "transformed[\"source_uncertain\"] = haplos.loc[transformed[\"sourceID\"],\"numerosity\"].astype(\"u4\").to_numpy() == 1\n",
    "transformed[\"advance\"] = haplos.loc[transformed[\"sourceID\"],\"flags_day\"].to_numpy() - haplos.loc[transformed[\"targetID\"],\"flags_day\"].to_numpy()\n",
    "transformed"
   ]
  },
  {
   "cell_type": "code",
   "execution_count": null,
   "id": "0f5276ca-3f78-40f2-9066-4052f9bc6338",
   "metadata": {},
   "outputs": [],
   "source": [
    "treefied = transformed.sort_values([\"length\",\"source_uncertain\",\"advance\"]).groupby(\"targetID\").first()\n",
    "treefied.reset_index(inplace=True)\n",
    "treefied = treefied[[\"sourceID\",\"targetID\"]]\n",
    "treefied"
   ]
  },
  {
   "cell_type": "code",
   "execution_count": null,
   "id": "f31352c9-5038-4770-a780-82f27767a89a",
   "metadata": {},
   "outputs": [],
   "source": [
    "sources = treefied[\"sourceID\"].unique()\n",
    "targets = treefied[\"targetID\"].unique()\n",
    "sources.shape, targets.shape"
   ]
  },
  {
   "cell_type": "code",
   "execution_count": null,
   "id": "a59e280b-7599-4470-8674-7e592b22282a",
   "metadata": {},
   "outputs": [],
   "source": [
    "sources[~np.isin(sources, targets)]"
   ]
  },
  {
   "cell_type": "code",
   "execution_count": null,
   "id": "8233ee3a-fa88-4754-9b2a-7978554c391d",
   "metadata": {},
   "outputs": [],
   "source": [
    "all_nodes = np.sort(np.unique(treefied.to_numpy()))"
   ]
  },
  {
   "cell_type": "code",
   "execution_count": null,
   "id": "aa217e0d-b59f-402d-80e3-78e532b6bd47",
   "metadata": {},
   "outputs": [],
   "source": [
    "all_nodes.shape, all_nodes"
   ]
  },
  {
   "cell_type": "code",
   "execution_count": null,
   "id": "329e9e34-610f-43b9-8171-d194cc56fa73",
   "metadata": {},
   "outputs": [],
   "source": [
    "np.sort(treefied[\"targetID\"].to_numpy())"
   ]
  },
  {
   "cell_type": "code",
   "execution_count": null,
   "id": "4f07930e-407c-49ee-8f77-20e80126a225",
   "metadata": {},
   "outputs": [],
   "source": [
    "np.all(np.append(all_nodes[:97], all_nodes[98:]) == np.sort(treefied[\"targetID\"].to_numpy()))"
   ]
  },
  {
   "cell_type": "code",
   "execution_count": null,
   "id": "f94dfabd-0c06-4663-8af2-7a6b8b1d194b",
   "metadata": {},
   "outputs": [],
   "source": [
    "renamed = trees.Tree.renameEdgelist(treefied.to_numpy().astype(\"u4\"), 97)"
   ]
  },
  {
   "cell_type": "code",
   "execution_count": null,
   "id": "fadbfadf-2c12-4119-b3a2-6df4d698bbe2",
   "metadata": {},
   "outputs": [],
   "source": [
    "renamed.shape"
   ]
  },
  {
   "cell_type": "code",
   "execution_count": null,
   "id": "8f50e8ae-7a93-4a0b-874e-1ce704c0526a",
   "metadata": {},
   "outputs": [],
   "source": [
    "treefied = pd.DataFrame(renamed, columns=[\"sourceID\",\"targetID\"])\n",
    "treefied"
   ]
  },
  {
   "cell_type": "code",
   "execution_count": null,
   "id": "f6a52e9d-4da9-4108-aaab-bb4d3367224a",
   "metadata": {},
   "outputs": [],
   "source": [
    "treefied.to_csv(\"realdata/Alpha_UK_treefied.csv\", index=False)"
   ]
  },
  {
   "cell_type": "code",
   "execution_count": null,
   "id": "628369e8-4dce-411f-93d3-fc8faae353df",
   "metadata": {},
   "outputs": [],
   "source": []
  }
 ],
 "metadata": {
  "kernelspec": {
   "display_name": "Python 3 (ipykernel)",
   "language": "python",
   "name": "python3"
  },
  "language_info": {
   "codemirror_mode": {
    "name": "ipython",
    "version": 3
   },
   "file_extension": ".py",
   "mimetype": "text/x-python",
   "name": "python",
   "nbconvert_exporter": "python",
   "pygments_lexer": "ipython3",
   "version": "3.11.8"
  }
 },
 "nbformat": 4,
 "nbformat_minor": 5
}
