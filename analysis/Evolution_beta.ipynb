{
 "cells": [
  {
   "cell_type": "code",
   "execution_count": null,
   "id": "2e81ae83-891d-48ae-9af8-8d0be388b55f",
   "metadata": {},
   "outputs": [],
   "source": [
    "import os\n",
    "os.chdir(\"..\")"
   ]
  },
  {
   "cell_type": "code",
   "execution_count": null,
   "id": "0cd87904-1067-4f84-ba00-846413fbb9db",
   "metadata": {},
   "outputs": [],
   "source": [
    "import h5py\n",
    "import pandas as pd\n",
    "import numpy as np\n",
    "import matplotlib.pyplot as plt\n",
    "import matplotlib\n",
    "import seaborn as sb\n",
    "from scipy.stats import beta as BetaDistr"
   ]
  },
  {
   "cell_type": "code",
   "execution_count": null,
   "id": "536b143d-10ee-4a26-9f8e-7b52a90aa614",
   "metadata": {},
   "outputs": [],
   "source": [
    "file = h5py.File(\"analysis/newfitness.h5\")\n",
    "\n",
    "path = {}\n",
    "for name,group in file.items():\n",
    "\tseedstolook = [label for label,run in group.items() if run.attrs[\"survived\"]]\n",
    "\tif name not in path:\n",
    "\t\tpath[name] = []\n",
    "\tpath[name].extend(seedstolook)\n",
    "\n",
    "allfitness = {name : [file[f\"{name}/{simulation}/fitness\"][:] for simulation in simulations] for name,simulations in path.items()}\n",
    "infections = {name : [file[f\"{name}/{simulation}/infections\"].fields([\"t\",\"mut\"])[:] for simulation in simulations] for name,simulations in path.items()}\n",
    "for name,thelist in infections.items():\n",
    "\tfor arr in thelist:\n",
    "\t\tarr[\"t\"] = np.round(arr[\"t\"] * file[name].attrs[\"dt\"])\n",
    "mutation_rates = {name : file[name].attrs[\"mutation_rate\"] for name in path.keys()}\n",
    "fitness_params = {name : {key:val for key,val in file[name].attrs.items() if \"fitness_\" in key} for name in path.keys()}\n",
    "fitness_params = pd.DataFrame.from_dict(fitness_params, orient=\"index\").sort_values([\"fitness_p\",\"fitness_delta+\",\"fitness_delta-\"])\n",
    "\n",
    "file.close()"
   ]
  },
  {
   "cell_type": "code",
   "execution_count": null,
   "id": "6d54eb42-d43e-471d-aa9d-70f5604b82cc",
   "metadata": {},
   "outputs": [],
   "source": [
    "evolvingfitness = {}\n",
    "for name,thelist in allfitness.items():\n",
    "\tdfs = []\n",
    "\tfor i,allfit in enumerate(thelist):\n",
    "\t\tallfit = pd.DataFrame.from_records(allfit, index=\"id\")\n",
    "\t\tdf = pd.DataFrame.from_records(infections[name][i], index=\"mut\")\n",
    "\t\tdf[\"phi\"] = allfit.loc[df.index]\n",
    "\t\tdf.reset_index(inplace=True)\n",
    "\t\tdf.drop(columns=\"mut\", inplace=True)\n",
    "\t\tdfs.append(df)\n",
    "\tevolvingfitness[name] = pd.concat(dfs)"
   ]
  },
  {
   "cell_type": "code",
   "execution_count": null,
   "id": "8ce6cc32-0806-47c2-97e7-76753ca12b0f",
   "metadata": {},
   "outputs": [],
   "source": [
    "nrows = int(np.ceil(len(evolvingfitness) / 2))\n",
    "fig, axs = plt.subplots(nrows, 2, figsize=(8,4*nrows))\n",
    "axs = axs.flatten()\n",
    "for i in range(fitness_params.shape[0]):\n",
    "\tname = str(fitness_params.index[i])\n",
    "\tsb.histplot(data=evolvingfitness[name], x=\"t\", y=\"phi\", bins=50, ax=axs[i], cbar_kws={\"norm\":matplotlib.colors.LogNorm()})\n",
    "\tlabel = [f\"Fitness p = {fitness_params.iloc[i]['fitness_p']}\", r\"Fitness $\\delta^-$ \"+f\"= {fitness_params.iloc[i]['fitness_delta-']}\", r\"Fitness $\\delta^+$ \"+f\"= {fitness_params.iloc[i]['fitness_delta+']}\"]\n",
    "\taxs[i].text(0.05, 0.8, \"\\n\".join(label), transform=axs[i].transAxes)\n",
    "\taxs[i].set_ylabel(\"Fitness\")\n",
    "\taxs[i].set_xlabel(\"t\")\n",
    "\taxs[i].set_xlim(left=0)\n",
    "fig.tight_layout()\n",
    "fig.savefig(\"analysis/fitness_evolution.png\")"
   ]
  },
  {
   "cell_type": "code",
   "execution_count": null,
   "id": "460b9644-ba5e-4a8e-838a-e768da291d19",
   "metadata": {},
   "outputs": [],
   "source": []
  },
  {
   "cell_type": "code",
   "execution_count": null,
   "id": "7ba979c2-5721-415c-85e5-9f3041a276f5",
   "metadata": {},
   "outputs": [],
   "source": []
  },
  {
   "cell_type": "code",
   "execution_count": null,
   "id": "b6358b50-cfba-462f-95bf-47894f674013",
   "metadata": {},
   "outputs": [],
   "source": []
  },
  {
   "cell_type": "code",
   "execution_count": null,
   "id": "7df35b27-2ec3-4de3-87d1-2cdab189f324",
   "metadata": {},
   "outputs": [],
   "source": []
  },
  {
   "cell_type": "code",
   "execution_count": null,
   "id": "c2332aab-65a5-468c-8eb2-d03dce31acdd",
   "metadata": {},
   "outputs": [],
   "source": []
  },
  {
   "cell_type": "code",
   "execution_count": null,
   "id": "9660e72f-dbb8-43ec-8df0-e4054e40293b",
   "metadata": {},
   "outputs": [],
   "source": []
  },
  {
   "cell_type": "code",
   "execution_count": null,
   "id": "5482bf46-58ab-4537-91ff-77a1dd891517",
   "metadata": {},
   "outputs": [],
   "source": []
  },
  {
   "cell_type": "code",
   "execution_count": null,
   "id": "4481d738-5a1a-4b3b-b133-242b88c0031c",
   "metadata": {},
   "outputs": [],
   "source": [
    "nrows = int(np.ceil(len(evolvingfitness) / 2))\n",
    "fig = plt.figure(figsize=(8,4*nrows))\n",
    "grid = fig.add_gridspec(nrows, 2, width_ratios=(3,1), wspace=0.05, hspace=0.2)\n",
    "for name,df in evolvingfitness.items():\n",
    "\ti = int(name)\n",
    "\taxbig = fig.add_subplot(grid[i,0])\n",
    "\tsb.histplot(data=df, x=\"t\", y=\"phi\", bins=50, ax=axbig)\n",
    "\t#axbig.set_title(f\"Mutation rate={mutation_rates[name]}  fitness std={fitness_params[name]['fitness_std']}\")\n",
    "\txdisplay, ydisplay = axbig.transData.transform((0.1, 0.9))\n",
    "\taxbig.text(0.05, 0.8, f\"Fitness beta = {fitness_params[name]['fitness_beta']}\\nFitness scale = {fitness_params[name]['fitness_scale']}\", transform=axbig.transAxes)\n",
    "\taxbig.set_ylabel(\"Fitness\")\n",
    "\taxbig.set_xlabel(\"t\")\n",
    "\taxbig.set_xlim(left=0)\n",
    "\taxmarg = fig.add_subplot(grid[i,1], sharey=axbig)\n",
    "\tsb.histplot(y=allfitness[name][\"phi\"], bins=50, stat=\"density\", alpha=0.5, ax=axmarg)\n",
    "\talpha = fitness_params[name][\"fitness_alpha\"]\n",
    "\tbeta = fitness_params[name][\"fitness_beta\"]\n",
    "\tscale = fitness_params[name][\"fitness_scale\"]\n",
    "\tloc = fitness_params[name][\"fitness_mean\"] - alpha / (alpha + beta) * scale\n",
    "\txs = np.linspace(allfitness[name][\"phi\"].min(), allfitness[name][\"phi\"].max(), 1001)\n",
    "\taxmarg.plot(BetaDistr.pdf(xs, alpha, beta, loc=loc, scale=scale), xs)\n",
    "\taxmarg.tick_params(axis=\"y\", labelleft=False)\n",
    "\taxmarg.set_xlabel(\"\")\n",
    "\taxmarg.set_xticks([])\n",
    "fig.subplots_adjust()\n",
    "#fig.savefig(\"analysis/fitness_evolution.png\")"
   ]
  },
  {
   "cell_type": "code",
   "execution_count": null,
   "id": "3b441bad-f242-485f-b0b2-fc75f2b8b212",
   "metadata": {},
   "outputs": [],
   "source": [
    "from scipy.stats import gamma, beta, norm\n",
    "from scipy.optimize import root_scalar\n",
    "from scipy.integrate import quad"
   ]
  },
  {
   "cell_type": "code",
   "execution_count": null,
   "id": "194fe796-9efa-4375-8c55-5c6a8856e61d",
   "metadata": {},
   "outputs": [],
   "source": [
    "quad(f, 1, 2)[0]"
   ]
  },
  {
   "cell_type": "code",
   "execution_count": null,
   "id": "10d97ed6-e187-44a3-94ec-e15d221f66f1",
   "metadata": {},
   "outputs": [],
   "source": [
    "fig, axs = plt.subplots(3, 1, figsize=(6,6), sharex=True)\n",
    "\n",
    "xs = np.linspace(-1.05,1.05,10001)\n",
    "xsplus = xs[xs>0]\n",
    "mean = 0\n",
    "std = 0.2\n",
    "\n",
    "k = 2\n",
    "theta = std / np.sqrt(k)\n",
    "def f(x):\n",
    "\treturn gamma.pdf(x, k, scale=theta, loc=mean-k*theta)\n",
    "axs[0].plot(xs, f(xs))\n",
    "P = quad(f, 0, 2)[0]\n",
    "axs[0].fill_between(xsplus, gamma.pdf(xsplus, k, scale=theta, loc=mean-k*theta), alpha=0.3, label=r\"$P(x > 1)=$\"+f\"{P:.2f}\")\n",
    "axs[0].legend(title=\"Gamma\")\n",
    "\n",
    "def f(x):\n",
    "\treturn norm.pdf(x, scale=std, loc=mean)\n",
    "axs[1].plot(xs, f(xs))\n",
    "P = quad(f, 0, 2)[0]\n",
    "axs[1].fill_between(xsplus, norm.pdf(xsplus, scale=std, loc=mean), alpha=0.3, label=r\"$P(x > 1)=$\"+f\"{P:.2f}\")\n",
    "axs[1].legend(title=\"Normal\")\n",
    "\n",
    "a = 2\n",
    "b = 50\n",
    "scale = std\n",
    "def f(x):\n",
    "\treturn beta.pdf(x, a, b, loc=mean-a/(a+b)*scale, scale=scale)\n",
    "axs[2].plot(xs, f(xs))\n",
    "P = quad(f, 0, 2)[0]\n",
    "axs[2].fill_between(xsplus, beta.pdf(xsplus, a, b, loc=mean-a/(a+b)*scale, scale=scale), alpha=0.3, label=r\"$P(x > 1)=$\"+f\"{P:.2f}\")\n",
    "axs[2].legend(title=\"Beta\")\n",
    "\n",
    "for ax in axs:\n",
    "\tax.grid()\n",
    "\tax.set_yticks([])\n",
    "\n",
    "fig.subplots_adjust(hspace=0)\n",
    "#fig.tight_layout()"
   ]
  },
  {
   "cell_type": "code",
   "execution_count": null,
   "id": "ff173013-1ee1-4f9b-a086-dfcaeb9e02da",
   "metadata": {},
   "outputs": [],
   "source": [
    "scale = 2"
   ]
  },
  {
   "cell_type": "code",
   "execution_count": null,
   "id": "37c6deb1-8172-4b35-bdf6-dd7db77d1822",
   "metadata": {},
   "outputs": [],
   "source": [
    "somevalues = beta.rvs(a, b, loc=mean-a/(a+b)*scale, scale=scale, size=int(1e6))\n",
    "plt.hist(somevalues, bins=500, density=True)\n",
    "plt.axvline(somevalues.mean(), color=\"k\", linestyle=\"--\")\n",
    "plt.plot(xs, beta.pdf(xs, a, b, loc=mean-a/(a+b)*scale, scale=scale))\n",
    "plt.xlim([-0.01,0.04])"
   ]
  },
  {
   "cell_type": "code",
   "execution_count": null,
   "id": "2d242869-8a82-41c4-acd3-44b20e2a7973",
   "metadata": {},
   "outputs": [],
   "source": [
    "from TravelAndMutate.distributions import BetaDistribution\n",
    "from TravelAndMutate.randominterface import NumpyRandomGenerator"
   ]
  },
  {
   "cell_type": "code",
   "execution_count": null,
   "id": "c774dc50-18b0-4cc1-a5e3-8f3186c9117c",
   "metadata": {},
   "outputs": [],
   "source": [
    "eng = NumpyRandomGenerator(156432)"
   ]
  },
  {
   "cell_type": "code",
   "execution_count": null,
   "id": "0cdb3dcc-5f34-4d08-83fd-50694cb10b58",
   "metadata": {},
   "outputs": [],
   "source": [
    "scales = [1,2,4]\n",
    "for scale in scales:\n",
    "\tplt.plot(xs, beta.pdf(xs, a, b, loc=mean-a/(a+b)*scale, scale=scale))\n",
    "plt.xlim([-0.1,0.4])"
   ]
  },
  {
   "cell_type": "code",
   "execution_count": null,
   "id": "d198a9c8-8580-4b00-9452-b25c9844e7f7",
   "metadata": {},
   "outputs": [],
   "source": [
    "scale = 1\n",
    "bs = [3,6,10,50]\n",
    "for b in bs:\n",
    "\tdef f(x):\n",
    "\t\treturn beta.pdf(x, a, b, loc=mean-a/(a+b)*scale, scale=scale)\n",
    "\tP = beta.median(a, b, loc=mean-a/(a+b)*scale, scale=scale)\n",
    "\tp = beta.ppf(0.95, a, b, loc=mean-a/(a+b)*scale, scale=scale)\n",
    "\tplt.plot(xs, f(xs), label=f\"{P:.2f} ; {(a-1)/(a+b-2)-a/(a+b):.2f} ; {p:.3f}\")\n",
    "\tplt.axvline((a-1)/(a+b-2)-a/(a+b), linestyle=\":\")\n",
    "plt.legend()\n",
    "plt.xlim([-0.5,0.4])\n",
    "plt.ylim([0,5])"
   ]
  },
  {
   "cell_type": "code",
   "execution_count": null,
   "id": "e68764df-4a4b-46ee-8bb2-a3c5d15af137",
   "metadata": {},
   "outputs": [],
   "source": []
  },
  {
   "cell_type": "code",
   "execution_count": null,
   "id": "f63cb422-a9c7-4f14-bae8-228b1380a7e9",
   "metadata": {},
   "outputs": [],
   "source": [
    "alphas = np.geomspace(0.00001,100,100)\n",
    "betas = alphas\n",
    "stds = np.empty(len(alphas)*len(betas))\n",
    "i = 0\n",
    "for alpha in alphas:\n",
    "\tfor beta in betas:\n",
    "\t\tstds[i] = np.sqrt(alpha * beta / (alpha+beta)**2 / (alpha+beta+1))\n",
    "\t\ti = i + 1"
   ]
  },
  {
   "cell_type": "code",
   "execution_count": null,
   "id": "717ac43b-b4a0-45c8-a247-d7f5540e507f",
   "metadata": {},
   "outputs": [],
   "source": [
    "values = pd.DataFrame({\"std\":stds}, index=pd.MultiIndex.from_product([alphas,betas], names=[\"alpha\",\"beta\"])).reset_index()"
   ]
  },
  {
   "cell_type": "code",
   "execution_count": null,
   "id": "0bcbce92-d3cc-4654-b66f-0fcfde07669b",
   "metadata": {},
   "outputs": [],
   "source": [
    "sb.heatmap(data=values.pivot(index=\"alpha\", columns=\"beta\", values=\"std\"))"
   ]
  },
  {
   "cell_type": "code",
   "execution_count": null,
   "id": "91104dff-4ff9-4bb3-993f-7aeda5f1bf95",
   "metadata": {},
   "outputs": [],
   "source": [
    "values[\"std\"].argmax()"
   ]
  },
  {
   "cell_type": "code",
   "execution_count": null,
   "id": "bfb9df77-5e4e-47bc-95a3-4f8d87e82360",
   "metadata": {},
   "outputs": [],
   "source": [
    "values.iloc[0]"
   ]
  },
  {
   "cell_type": "code",
   "execution_count": null,
   "id": "456f1962-1b8d-4752-bef2-18c50b7d0cc6",
   "metadata": {},
   "outputs": [],
   "source": []
  }
 ],
 "metadata": {
  "kernelspec": {
   "display_name": "Python 3 (ipykernel)",
   "language": "python",
   "name": "python3"
  },
  "language_info": {
   "codemirror_mode": {
    "name": "ipython",
    "version": 3
   },
   "file_extension": ".py",
   "mimetype": "text/x-python",
   "name": "python",
   "nbconvert_exporter": "python",
   "pygments_lexer": "ipython3",
   "version": "3.11.8"
  }
 },
 "nbformat": 4,
 "nbformat_minor": 5
}
