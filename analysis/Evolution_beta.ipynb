{
 "cells": [
  {
   "cell_type": "code",
   "execution_count": null,
   "id": "2e81ae83-891d-48ae-9af8-8d0be388b55f",
   "metadata": {},
   "outputs": [],
   "source": [
    "import os\n",
    "os.chdir(\"..\")"
   ]
  },
  {
   "cell_type": "code",
   "execution_count": null,
   "id": "0cd87904-1067-4f84-ba00-846413fbb9db",
   "metadata": {},
   "outputs": [],
   "source": [
    "import h5py\n",
    "import pandas as pd\n",
    "import numpy as np\n",
    "import matplotlib.pyplot as plt\n",
    "import matplotlib\n",
    "import seaborn as sb\n",
    "from scipy.stats import beta as BetaDistr"
   ]
  },
  {
   "cell_type": "code",
   "execution_count": null,
   "id": "40c5554a-8fc7-47e0-ae7e-295a6b3bce48",
   "metadata": {},
   "outputs": [],
   "source": [
    "file = h5py.File(\"data/fitness.h5\")\n",
    "\n",
    "path = {}\n",
    "for name,group in file.items():\n",
    "\tshapes = [run[\"infections\"].shape[0] for run in group.values()]\n",
    "\tseedtolook = list(group.keys())[np.argmax(shapes)]\n",
    "\tpath[name] = f\"{name}/{seedtolook}\"\n",
    "\n",
    "allfitness = {name : file[f\"{simulation}/fitness\"][:] for name,simulation in path.items()}\n",
    "infections = {name : file[f\"{simulation}/infections\"].fields([\"t\",\"mut\"])[:] for name,simulation in path.items()}\n",
    "mutation_rates = {name : file[simulation].attrs[\"mutation_rate\"] for name,simulation in path.items()}\n",
    "fitness_params = {name : {key:val for key,val in file[simulation].attrs.items() if \"fitness_\" in key} for name,simulation in path.items()}\n",
    "\n",
    "file.close()"
   ]
  },
  {
   "cell_type": "code",
   "execution_count": null,
   "id": "ba26ecf8-6af7-4db6-9994-ac9404923a11",
   "metadata": {},
   "outputs": [],
   "source": [
    "fitness_params"
   ]
  },
  {
   "cell_type": "code",
   "execution_count": null,
   "id": "6d54eb42-d43e-471d-aa9d-70f5604b82cc",
   "metadata": {},
   "outputs": [],
   "source": [
    "evolvingfitness = {}\n",
    "for name,allfit in allfitness.items():\n",
    "\tallfit = pd.DataFrame.from_records(allfit, index=\"id\")\n",
    "\tdf = pd.DataFrame.from_records(infections[name], index=\"mut\")\n",
    "\tdf[\"phi\"] = allfit.loc[df.index]\n",
    "\tdf.reset_index(inplace=True)\n",
    "\tevolvingfitness[name] = df"
   ]
  },
  {
   "cell_type": "code",
   "execution_count": null,
   "id": "8b83547c-7b7f-47db-9141-512095489acb",
   "metadata": {},
   "outputs": [],
   "source": [
    "print(f\"Mutation rate = {mutation_rates[name]}\\nFitness std = {fitness_params[name]['fitness_scale']}\")"
   ]
  },
  {
   "cell_type": "code",
   "execution_count": null,
   "id": "8ce6cc32-0806-47c2-97e7-76753ca12b0f",
   "metadata": {},
   "outputs": [],
   "source": [
    "nrows = len(evolvingfitness)\n",
    "fig = plt.figure(figsize=(8,4*nrows))\n",
    "grid = fig.add_gridspec(nrows, 2, width_ratios=(3,1), wspace=0.05, hspace=0.2)\n",
    "for name,df in evolvingfitness.items():\n",
    "\ti = int(name)\n",
    "\taxbig = fig.add_subplot(grid[i,0])\n",
    "\tsb.histplot(data=df, x=\"t\", y=\"phi\", bins=50, ax=axbig)\n",
    "\t#axbig.set_title(f\"Mutation rate={mutation_rates[name]}  fitness std={fitness_params[name]['fitness_std']}\")\n",
    "\txdisplay, ydisplay = axbig.transData.transform((0.1, 0.9))\n",
    "\taxbig.text(0.05, 0.8, f\"Fitness beta = {fitness_params[name]['fitness_beta']}\\nFitness scale = {fitness_params[name]['fitness_scale']}\", transform=axbig.transAxes)\n",
    "\taxbig.set_ylabel(\"Fitness\")\n",
    "\taxbig.set_xlabel(\"t\")\n",
    "\taxbig.set_xlim(left=0)\n",
    "\taxmarg = fig.add_subplot(grid[i,1], sharey=axbig)\n",
    "\tsb.histplot(y=allfitness[name][\"phi\"], bins=50, stat=\"density\", alpha=0.5, ax=axmarg)\n",
    "\talpha = fitness_params[name][\"fitness_alpha\"]\n",
    "\tbeta = fitness_params[name][\"fitness_beta\"]\n",
    "\tscale = fitness_params[name][\"fitness_scale\"]\n",
    "\tloc = fitness_params[name][\"fitness_mean\"] - alpha / (alpha + beta) * scale\n",
    "\txs = np.linspace(allfitness[name][\"phi\"].min(), allfitness[name][\"phi\"].max(), 1001)\n",
    "\taxmarg.plot(BetaDistr.pdf(xs, alpha, beta, loc=loc, scale=scale), xs)\n",
    "\taxmarg.tick_params(axis=\"y\", labelleft=False)\n",
    "\taxmarg.set_xlabel(\"\")\n",
    "\taxmarg.set_xticks([])\n",
    "fig.subplots_adjust()\n",
    "fig.savefig(\"analysis/fitness_evolution.png\")"
   ]
  },
  {
   "cell_type": "code",
   "execution_count": null,
   "id": "09aa4d75-ebf1-49ea-a494-9d209714a494",
   "metadata": {},
   "outputs": [],
   "source": [
    "mutation_rates"
   ]
  },
  {
   "cell_type": "code",
   "execution_count": null,
   "id": "3e370e72-30b8-4809-8730-d0672b5a5da0",
   "metadata": {},
   "outputs": [],
   "source": []
  },
  {
   "cell_type": "code",
   "execution_count": null,
   "id": "5482bf46-58ab-4537-91ff-77a1dd891517",
   "metadata": {},
   "outputs": [],
   "source": []
  },
  {
   "cell_type": "code",
   "execution_count": null,
   "id": "3b441bad-f242-485f-b0b2-fc75f2b8b212",
   "metadata": {},
   "outputs": [],
   "source": [
    "from scipy.stats import gamma, beta, norm\n",
    "from scipy.optimize import root_scalar\n",
    "from scipy.integrate import quad"
   ]
  },
  {
   "cell_type": "code",
   "execution_count": null,
   "id": "194fe796-9efa-4375-8c55-5c6a8856e61d",
   "metadata": {},
   "outputs": [],
   "source": [
    "quad(f, 1, 2)[0]"
   ]
  },
  {
   "cell_type": "code",
   "execution_count": null,
   "id": "10d97ed6-e187-44a3-94ec-e15d221f66f1",
   "metadata": {},
   "outputs": [],
   "source": [
    "fig, axs = plt.subplots(3, 1, figsize=(6,6), sharex=True)\n",
    "\n",
    "xs = np.linspace(-1.05,1.05,10001)\n",
    "xsplus = xs[xs>0]\n",
    "mean = 0\n",
    "std = 0.2\n",
    "\n",
    "k = 2\n",
    "theta = std / np.sqrt(k)\n",
    "def f(x):\n",
    "\treturn gamma.pdf(x, k, scale=theta, loc=mean-k*theta)\n",
    "axs[0].plot(xs, f(xs))\n",
    "P = quad(f, 0, 2)[0]\n",
    "axs[0].fill_between(xsplus, gamma.pdf(xsplus, k, scale=theta, loc=mean-k*theta), alpha=0.3, label=r\"$P(x > 1)=$\"+f\"{P:.2f}\")\n",
    "axs[0].legend(title=\"Gamma\")\n",
    "\n",
    "def f(x):\n",
    "\treturn norm.pdf(x, scale=std, loc=mean)\n",
    "axs[1].plot(xs, f(xs))\n",
    "P = quad(f, 0, 2)[0]\n",
    "axs[1].fill_between(xsplus, norm.pdf(xsplus, scale=std, loc=mean), alpha=0.3, label=r\"$P(x > 1)=$\"+f\"{P:.2f}\")\n",
    "axs[1].legend(title=\"Normal\")\n",
    "\n",
    "a = 2\n",
    "b = 50\n",
    "scale = std\n",
    "def f(x):\n",
    "\treturn beta.pdf(x, a, b, loc=mean-a/(a+b)*scale, scale=scale)\n",
    "axs[2].plot(xs, f(xs))\n",
    "P = quad(f, 0, 2)[0]\n",
    "axs[2].fill_between(xsplus, beta.pdf(xsplus, a, b, loc=mean-a/(a+b)*scale, scale=scale), alpha=0.3, label=r\"$P(x > 1)=$\"+f\"{P:.2f}\")\n",
    "axs[2].legend(title=\"Beta\")\n",
    "\n",
    "for ax in axs:\n",
    "\tax.grid()\n",
    "\tax.set_yticks([])\n",
    "\n",
    "fig.subplots_adjust(hspace=0)\n",
    "#fig.tight_layout()"
   ]
  },
  {
   "cell_type": "code",
   "execution_count": null,
   "id": "ff173013-1ee1-4f9b-a086-dfcaeb9e02da",
   "metadata": {},
   "outputs": [],
   "source": [
    "scale = 2"
   ]
  },
  {
   "cell_type": "code",
   "execution_count": null,
   "id": "37c6deb1-8172-4b35-bdf6-dd7db77d1822",
   "metadata": {},
   "outputs": [],
   "source": [
    "somevalues = beta.rvs(a, b, loc=mean-a/(a+b)*scale, scale=scale, size=int(1e6))\n",
    "plt.hist(somevalues, bins=500, density=True)\n",
    "plt.axvline(somevalues.mean(), color=\"k\", linestyle=\"--\")\n",
    "plt.plot(xs, beta.pdf(xs, a, b, loc=mean-a/(a+b)*scale, scale=scale))\n",
    "plt.xlim([-0.01,0.04])"
   ]
  },
  {
   "cell_type": "code",
   "execution_count": null,
   "id": "2d242869-8a82-41c4-acd3-44b20e2a7973",
   "metadata": {},
   "outputs": [],
   "source": [
    "from TravelAndMutate.distributions import BetaDistribution\n",
    "from TravelAndMutate.randominterface import NumpyRandomGenerator"
   ]
  },
  {
   "cell_type": "code",
   "execution_count": null,
   "id": "c774dc50-18b0-4cc1-a5e3-8f3186c9117c",
   "metadata": {},
   "outputs": [],
   "source": [
    "eng = NumpyRandomGenerator(156432)"
   ]
  },
  {
   "cell_type": "code",
   "execution_count": null,
   "id": "0cdb3dcc-5f34-4d08-83fd-50694cb10b58",
   "metadata": {},
   "outputs": [],
   "source": [
    "scales = [1,2,4]\n",
    "for scale in scales:\n",
    "\tplt.plot(xs, beta.pdf(xs, a, b, loc=mean-a/(a+b)*scale, scale=scale))\n",
    "plt.xlim([-0.1,0.4])"
   ]
  },
  {
   "cell_type": "code",
   "execution_count": null,
   "id": "d198a9c8-8580-4b00-9452-b25c9844e7f7",
   "metadata": {},
   "outputs": [],
   "source": [
    "scale = 1\n",
    "bs = [3,6,10,50]\n",
    "for b in bs:\n",
    "\tdef f(x):\n",
    "\t\treturn beta.pdf(x, a, b, loc=mean-a/(a+b)*scale, scale=scale)\n",
    "\tP = beta.median(a, b, loc=mean-a/(a+b)*scale, scale=scale)\n",
    "\tp = beta.ppf(0.95, a, b, loc=mean-a/(a+b)*scale, scale=scale)\n",
    "\tplt.plot(xs, f(xs), label=f\"{P:.2f} ; {(a-1)/(a+b-2)-a/(a+b):.2f} ; {p:.3f}\")\n",
    "\tplt.axvline((a-1)/(a+b-2)-a/(a+b), linestyle=\":\")\n",
    "plt.legend()\n",
    "plt.xlim([-0.5,0.4])\n",
    "plt.ylim([0,5])"
   ]
  },
  {
   "cell_type": "code",
   "execution_count": null,
   "id": "e68764df-4a4b-46ee-8bb2-a3c5d15af137",
   "metadata": {},
   "outputs": [],
   "source": []
  },
  {
   "cell_type": "code",
   "execution_count": null,
   "id": "f63cb422-a9c7-4f14-bae8-228b1380a7e9",
   "metadata": {},
   "outputs": [],
   "source": [
    "alphas = np.geomspace(0.00001,100,100)\n",
    "betas = alphas\n",
    "stds = np.empty(len(alphas)*len(betas))\n",
    "i = 0\n",
    "for alpha in alphas:\n",
    "\tfor beta in betas:\n",
    "\t\tstds[i] = np.sqrt(alpha * beta / (alpha+beta)**2 / (alpha+beta+1))\n",
    "\t\ti = i + 1"
   ]
  },
  {
   "cell_type": "code",
   "execution_count": null,
   "id": "717ac43b-b4a0-45c8-a247-d7f5540e507f",
   "metadata": {},
   "outputs": [],
   "source": [
    "values = pd.DataFrame({\"std\":stds}, index=pd.MultiIndex.from_product([alphas,betas], names=[\"alpha\",\"beta\"])).reset_index()"
   ]
  },
  {
   "cell_type": "code",
   "execution_count": null,
   "id": "0bcbce92-d3cc-4654-b66f-0fcfde07669b",
   "metadata": {},
   "outputs": [],
   "source": [
    "sb.heatmap(data=values.pivot(index=\"alpha\", columns=\"beta\", values=\"std\"))"
   ]
  },
  {
   "cell_type": "code",
   "execution_count": null,
   "id": "91104dff-4ff9-4bb3-993f-7aeda5f1bf95",
   "metadata": {},
   "outputs": [],
   "source": [
    "values[\"std\"].argmax()"
   ]
  },
  {
   "cell_type": "code",
   "execution_count": null,
   "id": "bfb9df77-5e4e-47bc-95a3-4f8d87e82360",
   "metadata": {},
   "outputs": [],
   "source": [
    "values.iloc[0]"
   ]
  },
  {
   "cell_type": "code",
   "execution_count": null,
   "id": "456f1962-1b8d-4752-bef2-18c50b7d0cc6",
   "metadata": {},
   "outputs": [],
   "source": []
  }
 ],
 "metadata": {
  "kernelspec": {
   "display_name": "Python 3 (ipykernel)",
   "language": "python",
   "name": "python3"
  },
  "language_info": {
   "codemirror_mode": {
    "name": "ipython",
    "version": 3
   },
   "file_extension": ".py",
   "mimetype": "text/x-python",
   "name": "python",
   "nbconvert_exporter": "python",
   "pygments_lexer": "ipython3",
   "version": "3.10.12"
  }
 },
 "nbformat": 4,
 "nbformat_minor": 5
}
