{
 "cells": [
  {
   "cell_type": "code",
   "execution_count": null,
   "id": "2e81ae83-891d-48ae-9af8-8d0be388b55f",
   "metadata": {},
   "outputs": [],
   "source": [
    "import os\n",
    "os.chdir(\"..\")"
   ]
  },
  {
   "cell_type": "code",
   "execution_count": null,
   "id": "0cd87904-1067-4f84-ba00-846413fbb9db",
   "metadata": {},
   "outputs": [],
   "source": [
    "import h5py\n",
    "import pandas as pd\n",
    "import numpy as np\n",
    "import matplotlib.pyplot as plt\n",
    "import matplotlib\n",
    "import seaborn as sb\n",
    "from scipy.stats import beta as BetaDistr\n",
    "from TravelAndMutate.datamanager import getHeteroAttributes"
   ]
  },
  {
   "cell_type": "code",
   "execution_count": null,
   "id": "536b143d-10ee-4a26-9f8e-7b52a90aa614",
   "metadata": {},
   "outputs": [],
   "source": [
    "file = h5py.File(\"analysis/newfitness.h5\")\n",
    "\n",
    "allfitness = {name : pd.DataFrame.from_records(group[\"fitness_evolution\"][:]) for name,group in file.items()}\n",
    "fitness_params = getHeteroAttributes(file).sort_values([\"fitness_p\",\"fitness_delta+\",\"fitness_delta-\"])\n",
    "\n",
    "file.close()"
   ]
  },
  {
   "cell_type": "code",
   "execution_count": null,
   "id": "8ce6cc32-0806-47c2-97e7-76753ca12b0f",
   "metadata": {},
   "outputs": [],
   "source": [
    "nrows = int(np.ceil(len(allfitness) / 2))\n",
    "fig, axs = plt.subplots(nrows, 2, figsize=(8,4*nrows))\n",
    "axs = axs.flatten()\n",
    "for i in range(fitness_params.shape[0]):\n",
    "\tname = str(fitness_params.index[i])\n",
    "\tsb.histplot(data=allfitness[name], x=\"t\", y=\"phi\", bins=50, ax=axs[i], cbar_kws={\"norm\":matplotlib.colors.LogNorm()})\n",
    "\tlabel = [f\"Fitness p = {fitness_params.iloc[i]['fitness_p']}\", r\"Fitness $\\delta^-$ \"+f\"= {fitness_params.iloc[i]['fitness_delta-']}\", r\"Fitness $\\delta^+$ \"+f\"= {fitness_params.iloc[i]['fitness_delta+']}\"]\n",
    "\taxs[i].text(0.05, 0.8, \"\\n\".join(label), transform=axs[i].transAxes)\n",
    "\taxs[i].set_ylabel(\"Fitness\")\n",
    "\taxs[i].set_xlabel(\"t\")\n",
    "\taxs[i].set_xlim(left=0)\n",
    "fig.tight_layout()\n",
    "fig.savefig(\"analysis/fitness_evolution.png\")"
   ]
  },
  {
   "cell_type": "code",
   "execution_count": null,
   "id": "460b9644-ba5e-4a8e-838a-e768da291d19",
   "metadata": {},
   "outputs": [],
   "source": []
  },
  {
   "cell_type": "code",
   "execution_count": null,
   "id": "7ba979c2-5721-415c-85e5-9f3041a276f5",
   "metadata": {},
   "outputs": [],
   "source": []
  }
 ],
 "metadata": {
  "kernelspec": {
   "display_name": "Python 3 (ipykernel)",
   "language": "python",
   "name": "python3"
  },
  "language_info": {
   "codemirror_mode": {
    "name": "ipython",
    "version": 3
   },
   "file_extension": ".py",
   "mimetype": "text/x-python",
   "name": "python",
   "nbconvert_exporter": "python",
   "pygments_lexer": "ipython3",
   "version": "3.11.8"
  }
 },
 "nbformat": 4,
 "nbformat_minor": 5
}
