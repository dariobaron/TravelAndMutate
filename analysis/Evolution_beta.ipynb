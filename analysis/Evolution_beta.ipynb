{
 "cells": [
  {
   "cell_type": "code",
   "execution_count": null,
   "id": "2e81ae83-891d-48ae-9af8-8d0be388b55f",
   "metadata": {},
   "outputs": [],
   "source": [
    "import os\n",
    "os.chdir(\"..\")"
   ]
  },
  {
   "cell_type": "code",
   "execution_count": null,
   "id": "0cd87904-1067-4f84-ba00-846413fbb9db",
   "metadata": {},
   "outputs": [],
   "source": [
    "import h5py\n",
    "import pandas as pd\n",
    "import numpy as np\n",
    "import matplotlib.pyplot as plt\n",
    "import matplotlib\n",
    "import seaborn as sb\n",
    "from scipy.stats import gamma"
   ]
  },
  {
   "cell_type": "code",
   "execution_count": null,
   "id": "40c5554a-8fc7-47e0-ae7e-295a6b3bce48",
   "metadata": {},
   "outputs": [],
   "source": [
    "file = h5py.File(\"data/fitness.h5\")\n",
    "\n",
    "path = {}\n",
    "for name,group in file.items():\n",
    "\tshapes = [run[\"infections\"].shape[0] for run in group.values()]\n",
    "\tseedtolook = list(group.keys())[np.argmax(shapes)]\n",
    "\tpath[name] = f\"{name}/{seedtolook}\"\n",
    "\n",
    "allfitness = {name : file[f\"{simulation}/fitness\"][:] for name,simulation in path.items()}\n",
    "infections = {name : file[f\"{simulation}/infections\"].fields([\"t\",\"mut\"])[:] for name,simulation in path.items()}\n",
    "mutation_rates = {name : group.attrs[\"mutation_rate\"] for name,group in file.items()}\n",
    "fitness_params = {name : {key:val for key,val in group.attrs.items() if \"fitness_\" in key} for name,group in file.items()}\n",
    "\n",
    "file.close()"
   ]
  },
  {
   "cell_type": "code",
   "execution_count": null,
   "id": "ba26ecf8-6af7-4db6-9994-ac9404923a11",
   "metadata": {},
   "outputs": [],
   "source": [
    "fitness_params"
   ]
  },
  {
   "cell_type": "code",
   "execution_count": null,
   "id": "fa854e4a-f616-436e-823c-efce5a61578e",
   "metadata": {},
   "outputs": [],
   "source": [
    "nrows = int(np.ceil(len(allfitness)/2))\n",
    "fig, axs = plt.subplots(nrows, 2, figsize=(12,4*nrows))\n",
    "axs = axs.flatten()\n",
    "for name in allfitness.keys():\n",
    "\ti = int(name)\n",
    "\t_,bins,_ = axs[i].hist(allfitness[name][\"phi\"], bins=50, density=True, alpha=0.5)\n",
    "\tk = fitness_params[name][\"fitness_k\"]\n",
    "\ttheta = fitness_params[name][\"fitness_std\"] / np.sqrt(k)\n",
    "\tloc = fitness_params[name][\"fitness_mean\"] - k * theta\n",
    "\taxs[i].plot(bins, gamma.pdf(bins, k, scale=theta, loc=loc))\n",
    "\taxs[i].set_title(f\"Mutation rate={mutation_rates[name]}  fitness std={fitness_params[name]['fitness_std']}\")"
   ]
  },
  {
   "cell_type": "code",
   "execution_count": null,
   "id": "786bf4d3-0dab-4544-bda6-e2d327d25539",
   "metadata": {},
   "outputs": [],
   "source": []
  },
  {
   "cell_type": "code",
   "execution_count": null,
   "id": "6d54eb42-d43e-471d-aa9d-70f5604b82cc",
   "metadata": {},
   "outputs": [],
   "source": [
    "evolvingfitness = {}\n",
    "for name,allfit in allfitness.items():\n",
    "\tallfit = pd.DataFrame.from_records(allfit, index=\"id\")\n",
    "\tdf = pd.DataFrame.from_records(infections[name], index=\"mut\")\n",
    "\tdf[\"phi\"] = allfit.loc[df.index]\n",
    "\tdf.reset_index(inplace=True)\n",
    "\tevolvingfitness[name] = df"
   ]
  },
  {
   "cell_type": "code",
   "execution_count": null,
   "id": "8b83547c-7b7f-47db-9141-512095489acb",
   "metadata": {},
   "outputs": [],
   "source": [
    "f\"Mutation rate = {mutation_rates[name]}\\nFitness std = {fitness_params[name]['fitness_std']}\""
   ]
  },
  {
   "cell_type": "code",
   "execution_count": null,
   "id": "8ce6cc32-0806-47c2-97e7-76753ca12b0f",
   "metadata": {},
   "outputs": [],
   "source": [
    "nrows = len(evolvingfitness)\n",
    "fig = plt.figure(figsize=(8,4*nrows))\n",
    "grid = fig.add_gridspec(nrows, 2, width_ratios=(3,1), wspace=0.05, hspace=0.2)\n",
    "for name,df in evolvingfitness.items():\n",
    "\ti = int(name)\n",
    "\taxbig = fig.add_subplot(grid[i,0])\n",
    "\tsb.histplot(data=df, x=\"t\", y=\"phi\", bins=50, ax=axbig)\n",
    "\t#axbig.set_title(f\"Mutation rate={mutation_rates[name]}  fitness std={fitness_params[name]['fitness_std']}\")\n",
    "\txdisplay, ydisplay = axbig.transData.transform((0.1, 0.9))\n",
    "\taxbig.text(0.05, 0.8, f\"Mutation rate = {mutation_rates[name]}\\nFitness std = {fitness_params[name]['fitness_std']}\", transform=axbig.transAxes)\n",
    "\taxbig.set_ylabel(\"Fitness\")\n",
    "\taxbig.set_xlabel(\"t\")\n",
    "\taxbig.set_xlim(left=0)\n",
    "\taxmarg = fig.add_subplot(grid[i,1], sharey=axbig)\n",
    "\tsb.histplot(y=allfitness[name][\"phi\"], bins=50, stat=\"density\", alpha=0.5, ax=axmarg)\n",
    "\tk = fitness_params[name][\"fitness_k\"]\n",
    "\ttheta = fitness_params[name][\"fitness_std\"] / np.sqrt(k)\n",
    "\tloc = fitness_params[name][\"fitness_mean\"] - k * theta\n",
    "\txs = np.linspace(allfitness[name][\"phi\"].min(), allfitness[name][\"phi\"].max(), 1001)\n",
    "\taxmarg.plot(gamma.pdf(xs, k, scale=theta, loc=loc), xs)\n",
    "\taxmarg.tick_params(axis=\"y\", labelleft=False)\n",
    "\taxmarg.set_xlabel(\"\")\n",
    "\taxmarg.set_xticks([])\n",
    "fig.subplots_adjust()\n",
    "fig.savefig(\"analysis/fitness_evolution.png\")"
   ]
  },
  {
   "cell_type": "code",
   "execution_count": null,
   "id": "09aa4d75-ebf1-49ea-a494-9d209714a494",
   "metadata": {},
   "outputs": [],
   "source": []
  }
 ],
 "metadata": {
  "kernelspec": {
   "display_name": "Python 3 (ipykernel)",
   "language": "python",
   "name": "python3"
  },
  "language_info": {
   "codemirror_mode": {
    "name": "ipython",
    "version": 3
   },
   "file_extension": ".py",
   "mimetype": "text/x-python",
   "name": "python",
   "nbconvert_exporter": "python",
   "pygments_lexer": "ipython3",
   "version": "3.10.12"
  }
 },
 "nbformat": 4,
 "nbformat_minor": 5
}
