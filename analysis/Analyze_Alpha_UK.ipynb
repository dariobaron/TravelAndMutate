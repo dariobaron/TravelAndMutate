{
 "cells": [
  {
   "cell_type": "code",
   "execution_count": null,
   "id": "85a5f173-f154-4458-880f-8ba98c611b24",
   "metadata": {},
   "outputs": [],
   "source": [
    "import os\n",
    "os.chdir(\"..\")"
   ]
  },
  {
   "cell_type": "code",
   "execution_count": null,
   "id": "7787c795-ce28-4cb6-a2e6-c74f0e22a81c",
   "metadata": {},
   "outputs": [],
   "source": [
    "import pandas as pd\n",
    "import numpy as np\n",
    "from numpy.lib import recfunctions\n",
    "from TravelAndMutate.trees import Tree"
   ]
  },
  {
   "cell_type": "code",
   "execution_count": null,
   "id": "422dab4e-6bcd-46cf-9463-0513f6c2c8cf",
   "metadata": {},
   "outputs": [],
   "source": [
    "data = pd.read_csv(\"realdata/Alpha_UK_treefied.csv\")\n",
    "data"
   ]
  },
  {
   "cell_type": "code",
   "execution_count": null,
   "id": "88bbc3c9-e88a-47d7-a805-e2992e332bd1",
   "metadata": {},
   "outputs": [],
   "source": [
    "ParentChildDtype = np.dtype([(\"parent\",\"u4\"),(\"child\",\"u4\")])"
   ]
  },
  {
   "cell_type": "code",
   "execution_count": null,
   "id": "d82ebc15-ede7-491b-9901-e4f2bc676874",
   "metadata": {},
   "outputs": [],
   "source": [
    "tree = Tree(recfunctions.unstructured_to_structured(data.to_numpy(), dtype=ParentChildDtype))"
   ]
  },
  {
   "cell_type": "code",
   "execution_count": null,
   "id": "07231bca-4a4b-4ac9-941d-38b74c48ed73",
   "metadata": {},
   "outputs": [],
   "source": [
    "tree.computeB2()"
   ]
  },
  {
   "cell_type": "code",
   "execution_count": null,
   "id": "8d9e14ce-223e-4a51-96d2-c3fc9bb63400",
   "metadata": {},
   "outputs": [],
   "source": [
    "tree.computeB2Norm()"
   ]
  },
  {
   "cell_type": "code",
   "execution_count": null,
   "id": "541550d5-c9d2-46f0-94c2-84aa8d5aabfe",
   "metadata": {},
   "outputs": [],
   "source": [
    "tree.computeCophenetic()"
   ]
  },
  {
   "cell_type": "code",
   "execution_count": null,
   "id": "fb55dd9f-7836-4804-89e6-196361b48d27",
   "metadata": {},
   "outputs": [],
   "source": [
    "tree.computeCopheneticNorm()"
   ]
  },
  {
   "cell_type": "code",
   "execution_count": null,
   "id": "8024deb9-af48-4584-8252-aa6e27793098",
   "metadata": {},
   "outputs": [],
   "source": [
    "metrics = {}"
   ]
  },
  {
   "cell_type": "code",
   "execution_count": null,
   "id": "ea9f4a45-2c9b-4a36-9a33-feadf39dd8fd",
   "metadata": {},
   "outputs": [],
   "source": [
    "depths = tree.computeDepths()\n",
    "metrics[\"SubTreeDepth_max\"] = depths.max()\n",
    "metrics[\"SubTreeDepth_mean\"] = depths.mean()\n",
    "widths = tree.computeWidths()\n",
    "metrics[\"SubTreeMaxWidth\"] = widths.max()\n",
    "metrics[\"SubTreeDepthAtMaxWidth\"] = np.argmax(widths)\n",
    "metrics[\"SubTreeMaxWidthOverMaxDepth\"] = widths.max() / depths.max()\n",
    "children = tree.computeNChildrenPerNode()\n",
    "metrics[\"SubNChildren_max\"] = children.max() / children.sum()\n",
    "metrics[\"SubNChildren_mean\"] = children.mean() / children.sum()"
   ]
  },
  {
   "cell_type": "code",
   "execution_count": null,
   "id": "3dac4281-a9ea-4133-ad64-34d37fbebb31",
   "metadata": {},
   "outputs": [],
   "source": [
    "metrics"
   ]
  },
  {
   "cell_type": "code",
   "execution_count": null,
   "id": "54ab1fe9-5a5a-47e1-b667-a5c5a97dc298",
   "metadata": {},
   "outputs": [],
   "source": []
  }
 ],
 "metadata": {
  "kernelspec": {
   "display_name": "Python 3 (ipykernel)",
   "language": "python",
   "name": "python3"
  },
  "language_info": {
   "codemirror_mode": {
    "name": "ipython",
    "version": 3
   },
   "file_extension": ".py",
   "mimetype": "text/x-python",
   "name": "python",
   "nbconvert_exporter": "python",
   "pygments_lexer": "ipython3",
   "version": "3.11.8"
  }
 },
 "nbformat": 4,
 "nbformat_minor": 5
}
