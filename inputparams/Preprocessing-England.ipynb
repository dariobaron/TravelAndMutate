{
 "cells": [
  {
   "cell_type": "code",
   "execution_count": null,
   "id": "061f19a8-b2d3-4916-9255-3999690bc952",
   "metadata": {},
   "outputs": [],
   "source": [
    "import pandas as pd\n",
    "import numpy as np\n",
    "import json"
   ]
  },
  {
   "cell_type": "code",
   "execution_count": null,
   "id": "e812590e-0752-41cc-8f69-d160417e60c7",
   "metadata": {},
   "outputs": [],
   "source": [
    "data = pd.read_excel(\"../raw/Mobility/England/myebtablesuk20112022.xlsx\", sheet_name=4, skiprows=1, usecols=[\"laname23\",\"country\",\"sex\",\"age\",\"population_2021\"])\n",
    "data"
   ]
  },
  {
   "cell_type": "code",
   "execution_count": null,
   "id": "7067a062-5cb9-495e-b3d8-c2fed979fcb2",
   "metadata": {},
   "outputs": [],
   "source": [
    "with open(\"../raw/Mobility/England/Local_Authority_Districts_May_2023_UK_BGC_V2_606764927733448598.geojson\") as file:\n",
    "    what = json.load(file)\n",
    "needed = [el[\"properties\"] for el in what[\"features\"]]\n",
    "locations = pd.DataFrame(needed).set_index(\"LAD23NM\")\n",
    "locations"
   ]
  },
  {
   "cell_type": "code",
   "execution_count": null,
   "id": "f70705e2-b9a3-4cbb-8315-2e48ddc59ff0",
   "metadata": {},
   "outputs": [],
   "source": [
    "np.isin(data[\"laname23\"], locations.index).all(), np.isin(locations.index, data[\"laname23\"]).all()"
   ]
  },
  {
   "cell_type": "code",
   "execution_count": null,
   "id": "e67e6584-611e-4272-b315-5d290680483d",
   "metadata": {},
   "outputs": [],
   "source": [
    "relevant = data.loc[data[\"country\"]==\"E\"].groupby(\"laname23\").agg({\"population_2021\":\"sum\"})"
   ]
  },
  {
   "cell_type": "code",
   "execution_count": null,
   "id": "af2009f1-a22a-4321-9fea-5ff00d747eaf",
   "metadata": {},
   "outputs": [],
   "source": [
    "for colname in [\"LAD23CD\",\"LONG\",\"LAT\",\"GlobalID\"]:\n",
    "    relevant[colname] = locations[colname]"
   ]
  },
  {
   "cell_type": "code",
   "execution_count": null,
   "id": "484727b9-d939-40d2-9467-8bd75babca87",
   "metadata": {},
   "outputs": [],
   "source": [
    "relevant"
   ]
  },
  {
   "cell_type": "code",
   "execution_count": null,
   "id": "0e7847c7-b9db-4424-b967-e298a35c10e1",
   "metadata": {},
   "outputs": [],
   "source": [
    "def computeDistance(lat, long):\n",
    "\tlat = np.radians(lat.to_numpy())\n",
    "\tlong = np.radians(long.to_numpy())\n",
    "\tdistance = np.zeros((lat.shape[0],)*2)\n",
    "\tfor i in range(lat.shape[0]):\n",
    "\t\tfor j in range(i+1,lat.shape[0]):\n",
    "\t\t\tdistance[i,j] = 6371 * np.arccos(np.sin(lat[i])*np.sin(lat[j])+np.cos(lat[i])*np.cos(lat[j])*np.cos(long[i]-long[j]))\n",
    "\t\t\tdistance[j,i] = distance[i,j]\n",
    "\treturn distance"
   ]
  },
  {
   "cell_type": "code",
   "execution_count": null,
   "id": "5c436113-fe2c-4300-a00e-d9ea6c517eb1",
   "metadata": {},
   "outputs": [],
   "source": [
    "distances = computeDistance(relevant[\"LAT\"], relevant[\"LONG\"])"
   ]
  },
  {
   "cell_type": "code",
   "execution_count": null,
   "id": "d934f694-d724-401e-b754-b9bec283a810",
   "metadata": {},
   "outputs": [],
   "source": [
    "relevant[\"population_2021\"].to_csv(\"Ns/england.csv\", index=False)"
   ]
  },
  {
   "cell_type": "code",
   "execution_count": null,
   "id": "28a42da3-ab14-4ba4-be76-5e2a8b43d07e",
   "metadata": {},
   "outputs": [],
   "source": [
    "pd.DataFrame(distances, columns=relevant.index).to_csv(\"distances/england.csv\", index=False)"
   ]
  },
  {
   "cell_type": "code",
   "execution_count": null,
   "id": "d2a7044f-b194-451e-a218-4cb0089e91f1",
   "metadata": {},
   "outputs": [],
   "source": []
  }
 ],
 "metadata": {
  "kernelspec": {
   "display_name": "Python 3 (ipykernel)",
   "language": "python",
   "name": "python3"
  },
  "language_info": {
   "codemirror_mode": {
    "name": "ipython",
    "version": 3
   },
   "file_extension": ".py",
   "mimetype": "text/x-python",
   "name": "python",
   "nbconvert_exporter": "python",
   "pygments_lexer": "ipython3",
   "version": "3.10.12"
  }
 },
 "nbformat": 4,
 "nbformat_minor": 5
}
