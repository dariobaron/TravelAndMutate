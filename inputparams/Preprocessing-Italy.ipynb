{
 "cells": [
  {
   "cell_type": "code",
   "execution_count": null,
   "id": "c659a8f2-7bc4-413d-97a2-08339ab191fb",
   "metadata": {},
   "outputs": [],
   "source": [
    "import pandas as pd\n",
    "import numpy as np\n",
    "from glob import glob"
   ]
  },
  {
   "cell_type": "code",
   "execution_count": null,
   "id": "436c81c4-3ff5-4725-a272-945999d2178d",
   "metadata": {},
   "outputs": [],
   "source": [
    "comuni_to_drop = [22111,22152,22046,22030,22027,22154,22070,22080,22063,22088,22041,22211,22253,22254,22252,41032,97085]\n",
    "provincia_to_capoluogo = {\n",
    "\t\"Valle d'Aosta/Vallée d'Aoste\" : \"Aosta\",\n",
    "\t\"Forlì-Cesena\" : \"Forlì\",\n",
    "\t\"Pesaro e Urbino\" : \"Pesaro\",\n",
    "\t\"Massa-Carrara\" : \"Massa\",\n",
    "\t\"Verbano-Cusio-Ossola\" : \"Verbania\",\n",
    "\t\"Monza e della Brianza\" : \"Monza\",\n",
    "\t\"Barletta-Andria-Trani\" : \"Andria\",\n",
    "\t\"Sud Sardegna\" : \"Carbonia\"\n",
    "}"
   ]
  },
  {
   "cell_type": "code",
   "execution_count": null,
   "id": "2a213f21-cfad-48fa-be23-68d3af2590f8",
   "metadata": {},
   "outputs": [],
   "source": [
    "# loading only the relevant entries\n",
    "comuni = pd.read_csv(\"../raw/Mobility/Italy/POSAS_2020_it_Comuni.csv\", skiprows=1, delimiter=\";\", usecols=[\"Codice comune\", \"Comune\", \"Età\", \"Totale\"])\n",
    "# selecting population with any age\n",
    "comuni = comuni.loc[comuni[\"Età\"] == 999]\n",
    "comuni.drop(columns=\"Età\", inplace=True)\n",
    "# dropping the municipalities that have appeared/disappeared\n",
    "comuni = comuni.loc[~comuni[\"Codice comune\"].isin(comuni_to_drop)]\n",
    "# computing the province code\n",
    "comuni[\"Codice provincia\"] = comuni[\"Codice comune\"] // 1000\n",
    "# sorting\n",
    "comuni.sort_values(\"Codice comune\", inplace=True)\n",
    "# visualizing\n",
    "comuni"
   ]
  },
  {
   "cell_type": "code",
   "execution_count": null,
   "id": "ed7b1da4-85a7-4ba7-ba47-fe05ec3364e1",
   "metadata": {},
   "outputs": [],
   "source": [
    "province = pd.read_csv(\"../raw/Mobility/Italy/Popolazione residente.csv\", usecols=[\"Codice provincia\", \"Provincia\"])\n",
    "province.set_index(\"Codice provincia\", inplace=True)\n",
    "province[\"Capoluogo\"] = province[\"Provincia\"].replace(provincia_to_capoluogo)\n",
    "province[\"Codice capoluogo\"] = comuni.set_index(\"Comune\").loc[province[\"Capoluogo\"]].set_index(\"Codice provincia\")[\"Codice comune\"]\n",
    "province[\"Popolazione\"] = comuni[[\"Totale\",\"Codice provincia\"]].groupby(\"Codice provincia\").sum()\n",
    "province"
   ]
  },
  {
   "cell_type": "code",
   "execution_count": null,
   "id": "f6d78540-19c7-45a3-b9aa-85bcb05fdb66",
   "metadata": {},
   "outputs": [],
   "source": [
    "province_IDs = province.reset_index()\n",
    "province_IDs.index.name = \"Provincia ID\"\n",
    "province_IDs[[\"Codice provincia\",\"Capoluogo\"]].to_csv(\"patchIDs/italy.csv\", index=True)"
   ]
  },
  {
   "cell_type": "code",
   "execution_count": null,
   "id": "8f32c0ea-f798-4460-8975-5924405ade35",
   "metadata": {},
   "outputs": [],
   "source": [
    "thetypes = {\"OR_PROCOM\":\"u4\",\"OR_PROV\":\"u4\",\"DEST_PROCOM\":\"u4\",\"DEST_PROV\":\"u4\",\"KM_TOT\":\"f8\"}\n",
    "distances = []\n",
    "for filename in sorted(glob(\"../raw/Mobility/Italy/Distanze/*.csv\")):\n",
    "\tspacedata = pd.read_csv(filename, delimiter=\";\", decimal=\",\", usecols=thetypes.keys(), dtype=thetypes)\n",
    "\tspacedata = spacedata.loc[np.logical_and(spacedata[\"OR_PROCOM\"].isin(province[\"Codice capoluogo\"]), spacedata[\"DEST_PROCOM\"].isin(province[\"Codice capoluogo\"]))]\n",
    "\tspacedata.drop(columns=[\"OR_PROCOM\",\"DEST_PROCOM\"], inplace=True)\n",
    "\tdistances.append(spacedata)\n",
    "distances = pd.concat(distances).pivot(columns=\"DEST_PROV\", index=\"OR_PROV\")\n",
    "distances = distances.droplevel(0, axis=\"columns\")\n",
    "distances"
   ]
  },
  {
   "cell_type": "code",
   "execution_count": null,
   "id": "52b75d99-9317-4b0b-b560-a57f2604b62d",
   "metadata": {},
   "outputs": [],
   "source": [
    "province[\"Popolazione\"].to_csv(\"Ns/italy.csv\", index=False)\n",
    "distances.to_csv(\"distances/italy.csv\", index=False)"
   ]
  },
  {
   "cell_type": "code",
   "execution_count": null,
   "id": "ac789450-0acb-48c0-951c-e48d07688dd5",
   "metadata": {},
   "outputs": [],
   "source": [
    "(province[\"Popolazione\"]/100).round().astype(int).to_csv(\"Ns/italy_mini.csv\", index=False)\n",
    "(province[\"Popolazione\"]/1000).round().astype(int).to_csv(\"Ns/italy_micro.csv\", index=False)"
   ]
  },
  {
   "cell_type": "code",
   "execution_count": null,
   "id": "515d7085-9dc6-48eb-89ed-5d06763e54b6",
   "metadata": {},
   "outputs": [],
   "source": []
  }
 ],
 "metadata": {
  "kernelspec": {
   "display_name": "Python 3 (ipykernel)",
   "language": "python",
   "name": "python3"
  },
  "language_info": {
   "codemirror_mode": {
    "name": "ipython",
    "version": 3
   },
   "file_extension": ".py",
   "mimetype": "text/x-python",
   "name": "python",
   "nbconvert_exporter": "python",
   "pygments_lexer": "ipython3",
   "version": "3.11.8"
  }
 },
 "nbformat": 4,
 "nbformat_minor": 5
}
